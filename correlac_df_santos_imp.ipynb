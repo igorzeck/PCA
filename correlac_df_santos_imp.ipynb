{
 "cells": [
  {
   "cell_type": "markdown",
   "metadata": {},
   "source": [
    "# PCA de importações de Santos"
   ]
  },
  {
   "cell_type": "markdown",
   "metadata": {},
   "source": [
    "## Setup"
   ]
  },
  {
   "cell_type": "markdown",
   "metadata": {},
   "source": [
    "### Importações"
   ]
  },
  {
   "cell_type": "code",
   "execution_count": 185,
   "metadata": {},
   "outputs": [],
   "source": [
    "import pandas as pd\n",
    "import numpy as np\n",
    "import matplotlib.pyplot as plt\n",
    "from sklearn.decomposition import PCA\n",
    "from sklearn.preprocessing import StandardScaler"
   ]
  },
  {
   "cell_type": "code",
   "execution_count": 202,
   "metadata": {},
   "outputs": [],
   "source": [
    "dict_dtypes = pd.read_pickle(\"datasets/aux_carga_dtypes.pkl\").to_dict()"
   ]
  },
  {
   "cell_type": "code",
   "execution_count": 142,
   "metadata": {},
   "outputs": [],
   "source": [
    "df = pd.read_csv(\"datasets/df_rus_ua_psantos.csv\", decimal=\",\", dtype=dict_dtypes)"
   ]
  },
  {
   "cell_type": "markdown",
   "metadata": {},
   "source": [
    "### Limpeza"
   ]
  },
  {
   "cell_type": "code",
   "execution_count": 86,
   "metadata": {},
   "outputs": [
    {
     "data": {
      "text/plain": [
       "Index(['IDCarga', 'IDAtracacao', 'Origem', 'Destino', 'CDMercadoria',\n",
       "       'Tipo Operação da Carga', 'Carga Geral Acondicionamento',\n",
       "       'ConteinerEstado', 'Tipo Navegação', 'FlagAutorizacao', 'FlagCabotagem',\n",
       "       'FlagCabotagemMovimentacao', 'FlagConteinerTamanho', 'FlagLongoCurso',\n",
       "       'FlagMCOperacaoCarga', 'FlagOffshore', 'FlagTransporteViaInterioir',\n",
       "       'Percurso Transporte em vias Interiores',\n",
       "       'Percurso Transporte Interiores', 'STNaturezaCarga', 'STSH2', 'STSH4',\n",
       "       'Natureza da Carga', 'Sentido', 'TEU', 'QTCarga', 'VLPesoCargaBruta',\n",
       "       'Ano'],\n",
       "      dtype='object')"
      ]
     },
     "execution_count": 86,
     "metadata": {},
     "output_type": "execute_result"
    }
   ],
   "source": [
    "df.columns"
   ]
  },
  {
   "cell_type": "code",
   "execution_count": 87,
   "metadata": {},
   "outputs": [],
   "source": [
    "df.drop([\"IDAtracacao\", \"Destino\", \"Sentido\"], axis=1, inplace=True)"
   ]
  },
  {
   "cell_type": "markdown",
   "metadata": {},
   "source": [
    "### Junção de Carga com Carga Conteinerizada"
   ]
  },
  {
   "cell_type": "code",
   "execution_count": 88,
   "metadata": {},
   "outputs": [],
   "source": [
    "pd1 = pd.DataFrame({\"colA\": [\"A\", \"B\", \"C\"], \"colB\": [3, 4, 5]})\n",
    "pd2 = pd.DataFrame({\"colA\": [\"A\", \"B\", \"A\", \"B\"], \"colC\": [3, 1, 1, 4]})"
   ]
  },
  {
   "cell_type": "code",
   "execution_count": 89,
   "metadata": {},
   "outputs": [
    {
     "data": {
      "text/html": [
       "<div>\n",
       "<style scoped>\n",
       "    .dataframe tbody tr th:only-of-type {\n",
       "        vertical-align: middle;\n",
       "    }\n",
       "\n",
       "    .dataframe tbody tr th {\n",
       "        vertical-align: top;\n",
       "    }\n",
       "\n",
       "    .dataframe thead th {\n",
       "        text-align: right;\n",
       "    }\n",
       "</style>\n",
       "<table border=\"1\" class=\"dataframe\">\n",
       "  <thead>\n",
       "    <tr style=\"text-align: right;\">\n",
       "      <th></th>\n",
       "      <th>colA</th>\n",
       "      <th>colB</th>\n",
       "      <th>colC</th>\n",
       "    </tr>\n",
       "  </thead>\n",
       "  <tbody>\n",
       "    <tr>\n",
       "      <th>0</th>\n",
       "      <td>A</td>\n",
       "      <td>3</td>\n",
       "      <td>3.0</td>\n",
       "    </tr>\n",
       "    <tr>\n",
       "      <th>1</th>\n",
       "      <td>A</td>\n",
       "      <td>3</td>\n",
       "      <td>1.0</td>\n",
       "    </tr>\n",
       "    <tr>\n",
       "      <th>2</th>\n",
       "      <td>B</td>\n",
       "      <td>4</td>\n",
       "      <td>1.0</td>\n",
       "    </tr>\n",
       "    <tr>\n",
       "      <th>3</th>\n",
       "      <td>B</td>\n",
       "      <td>4</td>\n",
       "      <td>4.0</td>\n",
       "    </tr>\n",
       "    <tr>\n",
       "      <th>4</th>\n",
       "      <td>C</td>\n",
       "      <td>5</td>\n",
       "      <td>NaN</td>\n",
       "    </tr>\n",
       "  </tbody>\n",
       "</table>\n",
       "</div>"
      ],
      "text/plain": [
       "  colA  colB  colC\n",
       "0    A     3   3.0\n",
       "1    A     3   1.0\n",
       "2    B     4   1.0\n",
       "3    B     4   4.0\n",
       "4    C     5   NaN"
      ]
     },
     "execution_count": 89,
     "metadata": {},
     "output_type": "execute_result"
    }
   ],
   "source": [
    "pd1.merge(pd2, on=\"colA\", how=\"outer\")"
   ]
  },
  {
   "cell_type": "code",
   "execution_count": 90,
   "metadata": {},
   "outputs": [],
   "source": [
    "df_cont = pd.read_csv(\"/home/vortex/Documents/Fatec/Trabalhos/Projeto Integrador local/BD/ANTAQ/2018Carga_Conteinerizada.csv\", sep=\";\", decimal=\",\", dtype=dict_dtypes)"
   ]
  },
  {
   "cell_type": "code",
   "execution_count": 91,
   "metadata": {},
   "outputs": [
    {
     "name": "stdout",
     "output_type": "stream",
     "text": [
      "<class 'pandas.core.frame.DataFrame'>\n",
      "RangeIndex: 3651101 entries, 0 to 3651100\n",
      "Data columns (total 3 columns):\n",
      " #   Column                      Dtype  \n",
      "---  ------                      -----  \n",
      " 0   IDCarga                     int64  \n",
      " 1   CDMercadoriaConteinerizada  object \n",
      " 2   VLPesoCargaConteinerizada   float64\n",
      "dtypes: float64(1), int64(1), object(1)\n",
      "memory usage: 83.6+ MB\n"
     ]
    }
   ],
   "source": [
    "df_cont.info()"
   ]
  },
  {
   "cell_type": "code",
   "execution_count": 92,
   "metadata": {},
   "outputs": [],
   "source": [
    "df = df.merge(df_cont, \"left\", \"IDCarga\")"
   ]
  },
  {
   "cell_type": "code",
   "execution_count": 93,
   "metadata": {},
   "outputs": [
    {
     "name": "stdout",
     "output_type": "stream",
     "text": [
      "<class 'pandas.core.frame.DataFrame'>\n",
      "RangeIndex: 8093 entries, 0 to 8092\n",
      "Data columns (total 27 columns):\n",
      " #   Column                                  Non-Null Count  Dtype   \n",
      "---  ------                                  --------------  -----   \n",
      " 0   IDCarga                                 8093 non-null   int64   \n",
      " 1   Origem                                  8093 non-null   object  \n",
      " 2   CDMercadoria                            8093 non-null   object  \n",
      " 3   Tipo Operação da Carga                  8093 non-null   category\n",
      " 4   Carga Geral Acondicionamento            3878 non-null   category\n",
      " 5   ConteinerEstado                         3833 non-null   object  \n",
      " 6   Tipo Navegação                          8093 non-null   category\n",
      " 7   FlagAutorizacao                         8093 non-null   category\n",
      " 8   FlagCabotagem                           8093 non-null   boolean \n",
      " 9   FlagCabotagemMovimentacao               8093 non-null   boolean \n",
      " 10  FlagConteinerTamanho                    3833 non-null   category\n",
      " 11  FlagLongoCurso                          8093 non-null   boolean \n",
      " 12  FlagMCOperacaoCarga                     8093 non-null   boolean \n",
      " 13  FlagOffshore                            8093 non-null   boolean \n",
      " 14  FlagTransporteViaInterioir              8093 non-null   boolean \n",
      " 15  Percurso Transporte em vias Interiores  0 non-null      category\n",
      " 16  Percurso Transporte Interiores          0 non-null      category\n",
      " 17  STNaturezaCarga                         8093 non-null   category\n",
      " 18  STSH2                                   8093 non-null   category\n",
      " 19  STSH4                                   8093 non-null   category\n",
      " 20  Natureza da Carga                       8093 non-null   category\n",
      " 21  TEU                                     8093 non-null   float64 \n",
      " 22  QTCarga                                 8093 non-null   UInt16  \n",
      " 23  VLPesoCargaBruta                        8093 non-null   float64 \n",
      " 24  Ano                                     8093 non-null   UInt16  \n",
      " 25  CDMercadoriaConteinerizada              1014 non-null   object  \n",
      " 26  VLPesoCargaConteinerizada               1014 non-null   float64 \n",
      "dtypes: UInt16(2), boolean(6), category(11), float64(3), int64(1), object(4)\n",
      "memory usage: 735.9+ KB\n"
     ]
    }
   ],
   "source": [
    "df.info()"
   ]
  },
  {
   "cell_type": "code",
   "execution_count": 102,
   "metadata": {},
   "outputs": [
    {
     "name": "stdout",
     "output_type": "stream",
     "text": [
      "Ano atual:  2018\n",
      "Ano atual:  2019\n",
      "Ano atual:  2020\n",
      "Ano atual:  2021\n",
      "Ano atual:  2022\n",
      "Ano atual:  2023\n"
     ]
    }
   ],
   "source": [
    "df_mestre = df.copy()\n",
    "for ano in range(df[\"Ano\"].min(), df[\"Ano\"].max() + 1):\n",
    "    print(\"Ano atual: \", ano)\n",
    "    df_cont = pd.read_csv(f\"/home/vortex/Documents/Fatec/Trabalhos/Projeto Integrador local/BD/ANTAQ/{ano}Carga_Conteinerizada.csv\", sep=\";\", decimal=\",\", dtype=dict_dtypes)\n",
    "\n",
    "    df_mestre = df_mestre.merge(df_cont,\"left\", \"IDCarga\", suffixes=('', '_x'))\n",
    "    \n",
    "    df_mestre[\"CDMercadoriaConteinerizada\"] = df_mestre[\"CDMercadoriaConteinerizada\"].combine_first(df_mestre[\"CDMercadoriaConteinerizada_x\"])\n",
    "    df_mestre[\"VLPesoCargaConteinerizada\"] = df_mestre[\"VLPesoCargaConteinerizada\"].combine_first(df_mestre[\"VLPesoCargaConteinerizada_x\"])\n",
    "\n",
    "    df_mestre.drop([\"VLPesoCargaConteinerizada_x\", \"CDMercadoriaConteinerizada_x\"], axis=1, inplace=True)\n",
    "del df_cont\n",
    "del df"
   ]
  },
  {
   "cell_type": "markdown",
   "metadata": {},
   "source": [
    "### Categorização"
   ]
  },
  {
   "cell_type": "code",
   "execution_count": 156,
   "metadata": {},
   "outputs": [],
   "source": [
    "df_cat = df_mestre.copy()"
   ]
  },
  {
   "cell_type": "code",
   "execution_count": 157,
   "metadata": {},
   "outputs": [],
   "source": [
    "for col in df_cat:\n",
    "    if df_cat[col].dtype == \"category\":\n",
    "        df_cat[col] = df_cat[col].cat.codes\n",
    "    if df_cat[col].dtype == \"object\":\n",
    "        df_cat[col] = df_cat[col].astype(\"category\").cat.codes"
   ]
  },
  {
   "cell_type": "code",
   "execution_count": 158,
   "metadata": {},
   "outputs": [
    {
     "name": "stdout",
     "output_type": "stream",
     "text": [
      "<class 'pandas.core.frame.DataFrame'>\n",
      "RangeIndex: 12438 entries, 0 to 12437\n",
      "Data columns (total 27 columns):\n",
      " #   Column                                  Non-Null Count  Dtype  \n",
      "---  ------                                  --------------  -----  \n",
      " 0   IDCarga                                 12438 non-null  int64  \n",
      " 1   Origem                                  12438 non-null  int8   \n",
      " 2   CDMercadoria                            12438 non-null  int8   \n",
      " 3   Tipo Operação da Carga                  12438 non-null  int8   \n",
      " 4   Carga Geral Acondicionamento            12438 non-null  int8   \n",
      " 5   ConteinerEstado                         12438 non-null  int8   \n",
      " 6   Tipo Navegação                          12438 non-null  int8   \n",
      " 7   FlagAutorizacao                         12438 non-null  int8   \n",
      " 8   FlagCabotagem                           12438 non-null  boolean\n",
      " 9   FlagCabotagemMovimentacao               12438 non-null  boolean\n",
      " 10  FlagConteinerTamanho                    12438 non-null  int8   \n",
      " 11  FlagLongoCurso                          12438 non-null  boolean\n",
      " 12  FlagMCOperacaoCarga                     12438 non-null  boolean\n",
      " 13  FlagOffshore                            12438 non-null  boolean\n",
      " 14  FlagTransporteViaInterioir              12438 non-null  boolean\n",
      " 15  Percurso Transporte em vias Interiores  12438 non-null  int8   \n",
      " 16  Percurso Transporte Interiores          12438 non-null  int8   \n",
      " 17  STNaturezaCarga                         12438 non-null  int8   \n",
      " 18  STSH2                                   12438 non-null  int8   \n",
      " 19  STSH4                                   12438 non-null  int8   \n",
      " 20  Natureza da Carga                       12438 non-null  int8   \n",
      " 21  TEU                                     12438 non-null  float64\n",
      " 22  QTCarga                                 12438 non-null  UInt16 \n",
      " 23  VLPesoCargaBruta                        12438 non-null  float64\n",
      " 24  Ano                                     12438 non-null  UInt16 \n",
      " 25  CDMercadoriaConteinerizada              12438 non-null  int16  \n",
      " 26  VLPesoCargaConteinerizada               8178 non-null   float64\n",
      "dtypes: UInt16(2), boolean(6), float64(3), int16(1), int64(1), int8(14)\n",
      "memory usage: 801.8 KB\n"
     ]
    }
   ],
   "source": [
    "df_cat.info()"
   ]
  },
  {
   "cell_type": "code",
   "execution_count": 162,
   "metadata": {},
   "outputs": [],
   "source": [
    "df_cat.drop(\"IDCarga\",axis=1, inplace=True)"
   ]
  },
  {
   "cell_type": "code",
   "execution_count": 168,
   "metadata": {},
   "outputs": [],
   "source": [
    "df_cat = df_cat.fillna(0)"
   ]
  },
  {
   "cell_type": "markdown",
   "metadata": {},
   "source": [
    "### Normalização dos dados"
   ]
  },
  {
   "cell_type": "code",
   "execution_count": 177,
   "metadata": {},
   "outputs": [],
   "source": [
    "normalizador = StandardScaler()"
   ]
  },
  {
   "cell_type": "code",
   "execution_count": 187,
   "metadata": {},
   "outputs": [],
   "source": [
    "arr_cat_norm = normalizador.fit_transform(df_cat)"
   ]
  },
  {
   "cell_type": "markdown",
   "metadata": {},
   "source": [
    "## PCA"
   ]
  },
  {
   "cell_type": "markdown",
   "metadata": {},
   "source": [
    "### Estimador e projeção"
   ]
  },
  {
   "cell_type": "code",
   "execution_count": 188,
   "metadata": {},
   "outputs": [],
   "source": [
    "pca = PCA()"
   ]
  },
  {
   "cell_type": "code",
   "execution_count": 192,
   "metadata": {},
   "outputs": [],
   "source": [
    "df_proj = pd.DataFrame(pca.fit_transform(arr_cat_norm), columns=pca.get_feature_names_out())"
   ]
  },
  {
   "cell_type": "markdown",
   "metadata": {},
   "source": [
    "### Influência nas colunas do PCA"
   ]
  },
  {
   "cell_type": "code",
   "execution_count": null,
   "metadata": {},
   "outputs": [],
   "source": [
    "df_comp = pd.DataFrame(pca.components_, pca.get_feature_names_out(), df_cat.columns)"
   ]
  },
  {
   "cell_type": "markdown",
   "metadata": {},
   "source": [
    "Maior influência em pca0"
   ]
  },
  {
   "cell_type": "code",
   "execution_count": 190,
   "metadata": {},
   "outputs": [
    {
     "data": {
      "text/html": [
       "<div>\n",
       "<style scoped>\n",
       "    .dataframe tbody tr th:only-of-type {\n",
       "        vertical-align: middle;\n",
       "    }\n",
       "\n",
       "    .dataframe tbody tr th {\n",
       "        vertical-align: top;\n",
       "    }\n",
       "\n",
       "    .dataframe thead th {\n",
       "        text-align: right;\n",
       "    }\n",
       "</style>\n",
       "<table border=\"1\" class=\"dataframe\">\n",
       "  <thead>\n",
       "    <tr style=\"text-align: right;\">\n",
       "      <th></th>\n",
       "      <th>ConteinerEstado</th>\n",
       "      <th>Natureza da Carga</th>\n",
       "      <th>Carga Geral Acondicionamento</th>\n",
       "      <th>FlagConteinerTamanho</th>\n",
       "      <th>CDMercadoriaConteinerizada</th>\n",
       "      <th>Ano</th>\n",
       "      <th>TEU</th>\n",
       "      <th>VLPesoCargaConteinerizada</th>\n",
       "      <th>CDMercadoria</th>\n",
       "      <th>VLPesoCargaBruta</th>\n",
       "      <th>...</th>\n",
       "      <th>Percurso Transporte em vias Interiores</th>\n",
       "      <th>FlagOffshore</th>\n",
       "      <th>FlagMCOperacaoCarga</th>\n",
       "      <th>Percurso Transporte Interiores</th>\n",
       "      <th>FlagLongoCurso</th>\n",
       "      <th>FlagCabotagemMovimentacao</th>\n",
       "      <th>FlagCabotagem</th>\n",
       "      <th>FlagAutorizacao</th>\n",
       "      <th>Tipo Navegação</th>\n",
       "      <th>FlagTransporteViaInterioir</th>\n",
       "    </tr>\n",
       "  </thead>\n",
       "  <tbody>\n",
       "    <tr>\n",
       "      <th>pca0</th>\n",
       "      <td>0.418458</td>\n",
       "      <td>0.417593</td>\n",
       "      <td>0.412878</td>\n",
       "      <td>0.411564</td>\n",
       "      <td>0.319164</td>\n",
       "      <td>0.271182</td>\n",
       "      <td>0.229419</td>\n",
       "      <td>0.162308</td>\n",
       "      <td>0.142449</td>\n",
       "      <td>0.120338</td>\n",
       "      <td>...</td>\n",
       "      <td>1.972152e-31</td>\n",
       "      <td>0.000000e+00</td>\n",
       "      <td>0.000000e+00</td>\n",
       "      <td>0.0</td>\n",
       "      <td>0.000000e+00</td>\n",
       "      <td>0.000000e+00</td>\n",
       "      <td>0.000000e+00</td>\n",
       "      <td>0.000000e+00</td>\n",
       "      <td>0.000000e+00</td>\n",
       "      <td>0.000000e+00</td>\n",
       "    </tr>\n",
       "    <tr>\n",
       "      <th>pca1</th>\n",
       "      <td>0.020598</td>\n",
       "      <td>0.018093</td>\n",
       "      <td>0.009727</td>\n",
       "      <td>0.047125</td>\n",
       "      <td>0.026476</td>\n",
       "      <td>0.023391</td>\n",
       "      <td>0.040717</td>\n",
       "      <td>0.044990</td>\n",
       "      <td>0.072981</td>\n",
       "      <td>0.006999</td>\n",
       "      <td>...</td>\n",
       "      <td>2.067952e-25</td>\n",
       "      <td>5.293956e-23</td>\n",
       "      <td>4.235165e-22</td>\n",
       "      <td>0.0</td>\n",
       "      <td>3.388132e-21</td>\n",
       "      <td>2.168404e-19</td>\n",
       "      <td>3.469447e-18</td>\n",
       "      <td>2.775558e-17</td>\n",
       "      <td>2.220446e-16</td>\n",
       "      <td>0.000000e+00</td>\n",
       "    </tr>\n",
       "    <tr>\n",
       "      <th>pca2</th>\n",
       "      <td>0.106316</td>\n",
       "      <td>0.100282</td>\n",
       "      <td>0.098185</td>\n",
       "      <td>0.066066</td>\n",
       "      <td>0.243482</td>\n",
       "      <td>0.028122</td>\n",
       "      <td>0.477828</td>\n",
       "      <td>0.402744</td>\n",
       "      <td>0.427299</td>\n",
       "      <td>0.383488</td>\n",
       "      <td>...</td>\n",
       "      <td>0.000000e+00</td>\n",
       "      <td>2.117582e-22</td>\n",
       "      <td>1.694066e-21</td>\n",
       "      <td>0.0</td>\n",
       "      <td>0.000000e+00</td>\n",
       "      <td>2.168404e-19</td>\n",
       "      <td>1.734723e-18</td>\n",
       "      <td>6.938894e-18</td>\n",
       "      <td>5.551115e-17</td>\n",
       "      <td>1.058791e-22</td>\n",
       "    </tr>\n",
       "  </tbody>\n",
       "</table>\n",
       "<p>3 rows × 26 columns</p>\n",
       "</div>"
      ],
      "text/plain": [
       "      ConteinerEstado  Natureza da Carga  Carga Geral Acondicionamento  \\\n",
       "pca0         0.418458           0.417593                      0.412878   \n",
       "pca1         0.020598           0.018093                      0.009727   \n",
       "pca2         0.106316           0.100282                      0.098185   \n",
       "\n",
       "      FlagConteinerTamanho  CDMercadoriaConteinerizada       Ano       TEU  \\\n",
       "pca0              0.411564                    0.319164  0.271182  0.229419   \n",
       "pca1              0.047125                    0.026476  0.023391  0.040717   \n",
       "pca2              0.066066                    0.243482  0.028122  0.477828   \n",
       "\n",
       "      VLPesoCargaConteinerizada  CDMercadoria  VLPesoCargaBruta  ...  \\\n",
       "pca0                   0.162308      0.142449          0.120338  ...   \n",
       "pca1                   0.044990      0.072981          0.006999  ...   \n",
       "pca2                   0.402744      0.427299          0.383488  ...   \n",
       "\n",
       "      Percurso Transporte em vias Interiores  FlagOffshore  \\\n",
       "pca0                            1.972152e-31  0.000000e+00   \n",
       "pca1                            2.067952e-25  5.293956e-23   \n",
       "pca2                            0.000000e+00  2.117582e-22   \n",
       "\n",
       "      FlagMCOperacaoCarga  Percurso Transporte Interiores  FlagLongoCurso  \\\n",
       "pca0         0.000000e+00                             0.0    0.000000e+00   \n",
       "pca1         4.235165e-22                             0.0    3.388132e-21   \n",
       "pca2         1.694066e-21                             0.0    0.000000e+00   \n",
       "\n",
       "      FlagCabotagemMovimentacao  FlagCabotagem  FlagAutorizacao  \\\n",
       "pca0               0.000000e+00   0.000000e+00     0.000000e+00   \n",
       "pca1               2.168404e-19   3.469447e-18     2.775558e-17   \n",
       "pca2               2.168404e-19   1.734723e-18     6.938894e-18   \n",
       "\n",
       "      Tipo Navegação  FlagTransporteViaInterioir  \n",
       "pca0    0.000000e+00                0.000000e+00  \n",
       "pca1    2.220446e-16                0.000000e+00  \n",
       "pca2    5.551115e-17                1.058791e-22  \n",
       "\n",
       "[3 rows x 26 columns]"
      ]
     },
     "execution_count": 190,
     "metadata": {},
     "output_type": "execute_result"
    }
   ],
   "source": [
    "df_comp.abs().sort_values(by=\"pca0\", axis=1, ascending=False).head(3)"
   ]
  },
  {
   "cell_type": "markdown",
   "metadata": {},
   "source": [
    "Logo, \"ConteinerEstado\" é redundante!"
   ]
  },
  {
   "cell_type": "markdown",
   "metadata": {},
   "source": [
    "Maior influência em pca1"
   ]
  },
  {
   "cell_type": "code",
   "execution_count": 235,
   "metadata": {},
   "outputs": [
    {
     "data": {
      "text/html": [
       "<div>\n",
       "<style scoped>\n",
       "    .dataframe tbody tr th:only-of-type {\n",
       "        vertical-align: middle;\n",
       "    }\n",
       "\n",
       "    .dataframe tbody tr th {\n",
       "        vertical-align: top;\n",
       "    }\n",
       "\n",
       "    .dataframe thead th {\n",
       "        text-align: right;\n",
       "    }\n",
       "</style>\n",
       "<table border=\"1\" class=\"dataframe\">\n",
       "  <thead>\n",
       "    <tr style=\"text-align: right;\">\n",
       "      <th></th>\n",
       "      <th>STSH2</th>\n",
       "      <th>STNaturezaCarga</th>\n",
       "      <th>STSH4</th>\n",
       "      <th>CDMercadoria</th>\n",
       "      <th>FlagConteinerTamanho</th>\n",
       "      <th>VLPesoCargaConteinerizada</th>\n",
       "      <th>TEU</th>\n",
       "      <th>CDMercadoriaConteinerizada</th>\n",
       "      <th>Ano</th>\n",
       "      <th>QTCarga</th>\n",
       "      <th>...</th>\n",
       "      <th>Tipo Navegação</th>\n",
       "      <th>FlagAutorizacao</th>\n",
       "      <th>FlagCabotagem</th>\n",
       "      <th>FlagCabotagemMovimentacao</th>\n",
       "      <th>FlagLongoCurso</th>\n",
       "      <th>FlagMCOperacaoCarga</th>\n",
       "      <th>FlagOffshore</th>\n",
       "      <th>Percurso Transporte em vias Interiores</th>\n",
       "      <th>Percurso Transporte Interiores</th>\n",
       "      <th>FlagTransporteViaInterioir</th>\n",
       "    </tr>\n",
       "  </thead>\n",
       "  <tbody>\n",
       "    <tr>\n",
       "      <th>pca0</th>\n",
       "      <td>0.089409</td>\n",
       "      <td>0.048240</td>\n",
       "      <td>0.031486</td>\n",
       "      <td>0.142449</td>\n",
       "      <td>0.411564</td>\n",
       "      <td>0.162308</td>\n",
       "      <td>0.229419</td>\n",
       "      <td>0.319164</td>\n",
       "      <td>0.271182</td>\n",
       "      <td>0.053960</td>\n",
       "      <td>...</td>\n",
       "      <td>0.000000e+00</td>\n",
       "      <td>0.000000e+00</td>\n",
       "      <td>0.000000e+00</td>\n",
       "      <td>0.000000e+00</td>\n",
       "      <td>0.000000e+00</td>\n",
       "      <td>0.000000e+00</td>\n",
       "      <td>0.000000e+00</td>\n",
       "      <td>1.972152e-31</td>\n",
       "      <td>0.0</td>\n",
       "      <td>0.0</td>\n",
       "    </tr>\n",
       "    <tr>\n",
       "      <th>pca1</th>\n",
       "      <td>0.598087</td>\n",
       "      <td>0.577935</td>\n",
       "      <td>0.542113</td>\n",
       "      <td>0.072981</td>\n",
       "      <td>0.047125</td>\n",
       "      <td>0.044990</td>\n",
       "      <td>0.040717</td>\n",
       "      <td>0.026476</td>\n",
       "      <td>0.023391</td>\n",
       "      <td>0.023203</td>\n",
       "      <td>...</td>\n",
       "      <td>2.220446e-16</td>\n",
       "      <td>2.775558e-17</td>\n",
       "      <td>3.469447e-18</td>\n",
       "      <td>2.168404e-19</td>\n",
       "      <td>3.388132e-21</td>\n",
       "      <td>4.235165e-22</td>\n",
       "      <td>5.293956e-23</td>\n",
       "      <td>2.067952e-25</td>\n",
       "      <td>0.0</td>\n",
       "      <td>0.0</td>\n",
       "    </tr>\n",
       "  </tbody>\n",
       "</table>\n",
       "<p>2 rows × 26 columns</p>\n",
       "</div>"
      ],
      "text/plain": [
       "         STSH2  STNaturezaCarga     STSH4  CDMercadoria  FlagConteinerTamanho  \\\n",
       "pca0  0.089409         0.048240  0.031486      0.142449              0.411564   \n",
       "pca1  0.598087         0.577935  0.542113      0.072981              0.047125   \n",
       "\n",
       "      VLPesoCargaConteinerizada       TEU  CDMercadoriaConteinerizada  \\\n",
       "pca0                   0.162308  0.229419                    0.319164   \n",
       "pca1                   0.044990  0.040717                    0.026476   \n",
       "\n",
       "           Ano   QTCarga  ...  Tipo Navegação  FlagAutorizacao  FlagCabotagem  \\\n",
       "pca0  0.271182  0.053960  ...    0.000000e+00     0.000000e+00   0.000000e+00   \n",
       "pca1  0.023391  0.023203  ...    2.220446e-16     2.775558e-17   3.469447e-18   \n",
       "\n",
       "      FlagCabotagemMovimentacao  FlagLongoCurso  FlagMCOperacaoCarga  \\\n",
       "pca0               0.000000e+00    0.000000e+00         0.000000e+00   \n",
       "pca1               2.168404e-19    3.388132e-21         4.235165e-22   \n",
       "\n",
       "      FlagOffshore  Percurso Transporte em vias Interiores  \\\n",
       "pca0  0.000000e+00                            1.972152e-31   \n",
       "pca1  5.293956e-23                            2.067952e-25   \n",
       "\n",
       "      Percurso Transporte Interiores  FlagTransporteViaInterioir  \n",
       "pca0                             0.0                         0.0  \n",
       "pca1                             0.0                         0.0  \n",
       "\n",
       "[2 rows x 26 columns]"
      ]
     },
     "execution_count": 235,
     "metadata": {},
     "output_type": "execute_result"
    }
   ],
   "source": [
    "df_comp.abs().sort_values(by=\"pca1\", axis=1, ascending=False).head(2)"
   ]
  },
  {
   "cell_type": "markdown",
   "metadata": {},
   "source": [
    "Mais influênciado por \"Ano\""
   ]
  },
  {
   "cell_type": "code",
   "execution_count": 217,
   "metadata": {},
   "outputs": [
    {
     "data": {
      "text/html": [
       "<div>\n",
       "<style scoped>\n",
       "    .dataframe tbody tr th:only-of-type {\n",
       "        vertical-align: middle;\n",
       "    }\n",
       "\n",
       "    .dataframe tbody tr th {\n",
       "        vertical-align: top;\n",
       "    }\n",
       "\n",
       "    .dataframe thead th {\n",
       "        text-align: right;\n",
       "    }\n",
       "</style>\n",
       "<table border=\"1\" class=\"dataframe\">\n",
       "  <thead>\n",
       "    <tr style=\"text-align: right;\">\n",
       "      <th></th>\n",
       "      <th>Origem</th>\n",
       "      <th>CDMercadoria</th>\n",
       "      <th>Tipo Operação da Carga</th>\n",
       "      <th>Carga Geral Acondicionamento</th>\n",
       "      <th>ConteinerEstado</th>\n",
       "      <th>Tipo Navegação</th>\n",
       "      <th>FlagAutorizacao</th>\n",
       "      <th>FlagCabotagem</th>\n",
       "      <th>FlagCabotagemMovimentacao</th>\n",
       "      <th>FlagConteinerTamanho</th>\n",
       "      <th>...</th>\n",
       "      <th>STNaturezaCarga</th>\n",
       "      <th>STSH2</th>\n",
       "      <th>STSH4</th>\n",
       "      <th>Natureza da Carga</th>\n",
       "      <th>TEU</th>\n",
       "      <th>QTCarga</th>\n",
       "      <th>VLPesoCargaBruta</th>\n",
       "      <th>Ano</th>\n",
       "      <th>CDMercadoriaConteinerizada</th>\n",
       "      <th>VLPesoCargaConteinerizada</th>\n",
       "    </tr>\n",
       "  </thead>\n",
       "  <tbody>\n",
       "    <tr>\n",
       "      <th>pca6</th>\n",
       "      <td>0.550441</td>\n",
       "      <td>0.349230</td>\n",
       "      <td>0.219593</td>\n",
       "      <td>0.057586</td>\n",
       "      <td>0.078347</td>\n",
       "      <td>6.331741e-17</td>\n",
       "      <td>0.000000e+00</td>\n",
       "      <td>5.551115e-17</td>\n",
       "      <td>6.938894e-18</td>\n",
       "      <td>0.052425</td>\n",
       "      <td>...</td>\n",
       "      <td>0.094833</td>\n",
       "      <td>0.017673</td>\n",
       "      <td>0.043387</td>\n",
       "      <td>0.087734</td>\n",
       "      <td>0.036627</td>\n",
       "      <td>0.089549</td>\n",
       "      <td>0.548686</td>\n",
       "      <td>0.256350</td>\n",
       "      <td>0.227685</td>\n",
       "      <td>0.260329</td>\n",
       "    </tr>\n",
       "    <tr>\n",
       "      <th>pca5</th>\n",
       "      <td>0.505112</td>\n",
       "      <td>0.251236</td>\n",
       "      <td>0.074245</td>\n",
       "      <td>0.071917</td>\n",
       "      <td>0.002992</td>\n",
       "      <td>0.000000e+00</td>\n",
       "      <td>2.775558e-17</td>\n",
       "      <td>5.551115e-17</td>\n",
       "      <td>5.551115e-17</td>\n",
       "      <td>0.102830</td>\n",
       "      <td>...</td>\n",
       "      <td>0.014601</td>\n",
       "      <td>0.037681</td>\n",
       "      <td>0.026200</td>\n",
       "      <td>0.012796</td>\n",
       "      <td>0.157538</td>\n",
       "      <td>0.551811</td>\n",
       "      <td>0.390034</td>\n",
       "      <td>0.158241</td>\n",
       "      <td>0.033357</td>\n",
       "      <td>0.387814</td>\n",
       "    </tr>\n",
       "    <tr>\n",
       "      <th>pca7</th>\n",
       "      <td>0.420649</td>\n",
       "      <td>0.488854</td>\n",
       "      <td>0.021582</td>\n",
       "      <td>0.061078</td>\n",
       "      <td>0.057789</td>\n",
       "      <td>2.220446e-16</td>\n",
       "      <td>1.387779e-17</td>\n",
       "      <td>5.551115e-17</td>\n",
       "      <td>0.000000e+00</td>\n",
       "      <td>0.154990</td>\n",
       "      <td>...</td>\n",
       "      <td>0.032509</td>\n",
       "      <td>0.010376</td>\n",
       "      <td>0.063139</td>\n",
       "      <td>0.046595</td>\n",
       "      <td>0.017233</td>\n",
       "      <td>0.049518</td>\n",
       "      <td>0.419237</td>\n",
       "      <td>0.053217</td>\n",
       "      <td>0.123097</td>\n",
       "      <td>0.590511</td>\n",
       "    </tr>\n",
       "  </tbody>\n",
       "</table>\n",
       "<p>3 rows × 26 columns</p>\n",
       "</div>"
      ],
      "text/plain": [
       "        Origem  CDMercadoria  Tipo Operação da Carga  \\\n",
       "pca6  0.550441      0.349230                0.219593   \n",
       "pca5  0.505112      0.251236                0.074245   \n",
       "pca7  0.420649      0.488854                0.021582   \n",
       "\n",
       "      Carga Geral Acondicionamento  ConteinerEstado  Tipo Navegação  \\\n",
       "pca6                      0.057586         0.078347    6.331741e-17   \n",
       "pca5                      0.071917         0.002992    0.000000e+00   \n",
       "pca7                      0.061078         0.057789    2.220446e-16   \n",
       "\n",
       "      FlagAutorizacao  FlagCabotagem  FlagCabotagemMovimentacao  \\\n",
       "pca6     0.000000e+00   5.551115e-17               6.938894e-18   \n",
       "pca5     2.775558e-17   5.551115e-17               5.551115e-17   \n",
       "pca7     1.387779e-17   5.551115e-17               0.000000e+00   \n",
       "\n",
       "      FlagConteinerTamanho  ...  STNaturezaCarga     STSH2     STSH4  \\\n",
       "pca6              0.052425  ...         0.094833  0.017673  0.043387   \n",
       "pca5              0.102830  ...         0.014601  0.037681  0.026200   \n",
       "pca7              0.154990  ...         0.032509  0.010376  0.063139   \n",
       "\n",
       "      Natureza da Carga       TEU   QTCarga  VLPesoCargaBruta       Ano  \\\n",
       "pca6           0.087734  0.036627  0.089549          0.548686  0.256350   \n",
       "pca5           0.012796  0.157538  0.551811          0.390034  0.158241   \n",
       "pca7           0.046595  0.017233  0.049518          0.419237  0.053217   \n",
       "\n",
       "      CDMercadoriaConteinerizada  VLPesoCargaConteinerizada  \n",
       "pca6                    0.227685                   0.260329  \n",
       "pca5                    0.033357                   0.387814  \n",
       "pca7                    0.123097                   0.590511  \n",
       "\n",
       "[3 rows x 26 columns]"
      ]
     },
     "execution_count": 217,
     "metadata": {},
     "output_type": "execute_result"
    }
   ],
   "source": [
    "df_comp.abs().sort_values(by=\"Origem\", axis=0, ascending=False).head(3)"
   ]
  },
  {
   "cell_type": "code",
   "execution_count": 198,
   "metadata": {},
   "outputs": [
    {
     "data": {
      "text/plain": [
       "array([nan, 'Cheio'], dtype=object)"
      ]
     },
     "execution_count": 198,
     "metadata": {},
     "output_type": "execute_result"
    }
   ],
   "source": [
    "df_mestre[\"ConteinerEstado\"].unique()"
   ]
  },
  {
   "cell_type": "markdown",
   "metadata": {},
   "source": [
    "## Plotagem"
   ]
  },
  {
   "cell_type": "code",
   "execution_count": 222,
   "metadata": {},
   "outputs": [
    {
     "data": {
      "text/plain": [
       "['Granel Sólido',\n",
       " 'Carga Conteinerizada',\n",
       " 'Carga Geral',\n",
       " 'Granel Líquido e Gasoso']"
      ]
     },
     "execution_count": 222,
     "metadata": {},
     "output_type": "execute_result"
    }
   ],
   "source": [
    "df_mestre[\"Natureza da Carga\"].unique().tolist()"
   ]
  },
  {
   "cell_type": "code",
   "execution_count": 227,
   "metadata": {},
   "outputs": [],
   "source": [
    "x_col = \"Natureza da Carga\""
   ]
  },
  {
   "cell_type": "code",
   "execution_count": 233,
   "metadata": {},
   "outputs": [],
   "source": [
    "x_estilos = {\n",
    "    'Granel Sólido': ('#1f77b4', 'o'),\n",
    "    'Carga Conteinerizada': ('#ff7f0e', 's'),\n",
    "    'Carga Geral': ('#2ca02c', 'v'),\n",
    "    'Granel Líquido e Gasoso': ('#d62728', '^')\n",
    "}"
   ]
  },
  {
   "cell_type": "code",
   "execution_count": 234,
   "metadata": {},
   "outputs": [
    {
     "data": {
      "image/png": "[encoded data removed]",
      "text/plain": [
       "<Figure size 1200x800 with 1 Axes>"
      ]
     },
     "metadata": {},
     "output_type": "display_data"
    }
   ],
   "source": [
    "plt.figure(figsize=(12, 8))\n",
    "plt.title(\"PCA0 X PCA1\")\n",
    "plt.xlabel(\"PCA0\")\n",
    "plt.ylabel(\"PCA1\")\n",
    "plt.grid(True)\n",
    "\n",
    "# Plotar os dados\n",
    "for x_, (cor, marker) in x_estilos.items():\n",
    "    subset = df_proj[df_mestre[x_col] == x_]\n",
    "    plt.scatter(subset['pca0'], subset['pca1'], marker=marker, color=cor, label=str(x_), alpha=0.7, edgecolor='k', s=30)\n",
    "\n",
    "plt.legend()\n",
    "plt.show()"
   ]
  },
  {
   "cell_type": "markdown",
   "metadata": {},
   "source": [
    "Em teoria se eu tirar esses indicadores, isso ainda vai ser um padrão dos dados!"
   ]
  },
  {
   "cell_type": "code",
   "execution_count": null,
   "metadata": {},
   "outputs": [],
   "source": []
  }
 ],
 "metadata": {
  "kernelspec": {
   "display_name": "base",
   "language": "python",
   "name": "python3"
  },
  "language_info": {
   "codemirror_mode": {
    "name": "ipython",
    "version": 3
   },
   "file_extension": ".py",
   "mimetype": "text/x-python",
   "name": "python",
   "nbconvert_exporter": "python",
   "pygments_lexer": "ipython3",
   "version": "3.12.4"
  }
 },
 "nbformat": 4,
 "nbformat_minor": 2
}
