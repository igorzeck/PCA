{
 "cells": [
  {
   "cell_type": "markdown",
   "metadata": {},
   "source": [
    "# PCA de importações de Santos"
   ]
  },
  {
   "cell_type": "markdown",
   "metadata": {},
   "source": [
    "## Setup"
   ]
  },
  {
   "cell_type": "markdown",
   "metadata": {},
   "source": [
    "### Importações"
   ]
  },
  {
   "cell_type": "code",
   "execution_count": 1,
   "metadata": {},
   "outputs": [],
   "source": [
    "import pandas as pd\n",
    "import numpy as np\n",
    "import matplotlib.pyplot as plt\n",
    "from sklearn.decomposition import PCA\n",
    "from sklearn.preprocessing import StandardScaler"
   ]
  },
  {
   "cell_type": "code",
   "execution_count": 2,
   "metadata": {},
   "outputs": [],
   "source": [
    "dict_dtypes = pd.read_pickle(\"datasets/aux_carga_dtypes.pkl\").to_dict()"
   ]
  },
  {
   "cell_type": "code",
   "execution_count": 3,
   "metadata": {},
   "outputs": [],
   "source": [
    "df = pd.read_csv(\"datasets/df_rus_ua_psantos.csv\", decimal=\",\", dtype=dict_dtypes)"
   ]
  },
  {
   "cell_type": "markdown",
   "metadata": {},
   "source": [
    "### Limpeza"
   ]
  },
  {
   "cell_type": "code",
   "execution_count": 4,
   "metadata": {},
   "outputs": [
    {
     "data": {
      "text/plain": [
       "Index(['IDCarga', 'IDAtracacao', 'Origem', 'Destino', 'CDMercadoria',\n",
       "       'Tipo Operação da Carga', 'Carga Geral Acondicionamento',\n",
       "       'ConteinerEstado', 'Tipo Navegação', 'FlagAutorizacao', 'FlagCabotagem',\n",
       "       'FlagCabotagemMovimentacao', 'FlagConteinerTamanho', 'FlagLongoCurso',\n",
       "       'FlagMCOperacaoCarga', 'FlagOffshore', 'FlagTransporteViaInterioir',\n",
       "       'Percurso Transporte em vias Interiores',\n",
       "       'Percurso Transporte Interiores', 'STNaturezaCarga', 'STSH2', 'STSH4',\n",
       "       'Natureza da Carga', 'Sentido', 'TEU', 'QTCarga', 'VLPesoCargaBruta',\n",
       "       'Ano'],\n",
       "      dtype='object')"
      ]
     },
     "execution_count": 4,
     "metadata": {},
     "output_type": "execute_result"
    }
   ],
   "source": [
    "df.columns"
   ]
  },
  {
   "cell_type": "code",
   "execution_count": 5,
   "metadata": {},
   "outputs": [],
   "source": [
    "df.drop([\"IDAtracacao\", \"Destino\", \"Sentido\"], axis=1, inplace=True)"
   ]
  },
  {
   "cell_type": "markdown",
   "metadata": {},
   "source": [
    "### Junção de Carga com Carga Conteinerizada"
   ]
  },
  {
   "cell_type": "code",
   "execution_count": 6,
   "metadata": {},
   "outputs": [
    {
     "name": "stdout",
     "output_type": "stream",
     "text": [
      "Ano atual:  2018\n",
      "Ano atual:  2019\n",
      "Ano atual:  2020\n",
      "Ano atual:  2021\n",
      "Ano atual:  2022\n",
      "Ano atual:  2023\n"
     ]
    }
   ],
   "source": [
    "df_mestre = df.copy()\n",
    "for ano in range(df[\"Ano\"].min(), df[\"Ano\"].max() + 1):\n",
    "    print(\"Ano atual: \", ano)\n",
    "    df_cont = pd.read_csv(f\"/home/vortex/Documents/Fatec/Trabalhos/Projeto Integrador local/BD/ANTAQ/{ano}Carga_Conteinerizada.csv\", sep=\";\", decimal=\",\", dtype=dict_dtypes)\n",
    "\n",
    "    df_mestre = df_mestre.merge(df_cont,\"left\", \"IDCarga\", suffixes=('', '_x'))\n",
    "\n",
    "    if ano > df[\"Ano\"].min():    \n",
    "        df_mestre[\"CDMercadoriaConteinerizada\"] = df_mestre[\"CDMercadoriaConteinerizada\"].combine_first(df_mestre[\"CDMercadoriaConteinerizada_x\"])\n",
    "        df_mestre[\"VLPesoCargaConteinerizada\"] = df_mestre[\"VLPesoCargaConteinerizada\"].combine_first(df_mestre[\"VLPesoCargaConteinerizada_x\"])\n",
    "        df_mestre.drop([\"VLPesoCargaConteinerizada_x\", \"CDMercadoriaConteinerizada_x\"], axis=1, inplace=True)\n",
    "    \n",
    "del df_cont\n",
    "del df"
   ]
  },
  {
   "cell_type": "markdown",
   "metadata": {},
   "source": [
    "### Categorização"
   ]
  },
  {
   "cell_type": "code",
   "execution_count": 7,
   "metadata": {},
   "outputs": [],
   "source": [
    "df_cat = df_mestre.copy()"
   ]
  },
  {
   "cell_type": "code",
   "execution_count": 8,
   "metadata": {},
   "outputs": [],
   "source": [
    "for col in df_cat:\n",
    "    if df_cat[col].dtype == \"category\":\n",
    "        df_cat[col] = df_cat[col].cat.codes\n",
    "    if df_cat[col].dtype == \"object\":\n",
    "        df_cat[col] = df_cat[col].astype(\"category\").cat.codes"
   ]
  },
  {
   "cell_type": "code",
   "execution_count": 9,
   "metadata": {},
   "outputs": [
    {
     "data": {
      "text/plain": [
       "array([-1,  0], dtype=int8)"
      ]
     },
     "execution_count": 9,
     "metadata": {},
     "output_type": "execute_result"
    }
   ],
   "source": [
    "df_cat[\"ConteinerEstado\"].unique()"
   ]
  },
  {
   "cell_type": "code",
   "execution_count": 10,
   "metadata": {},
   "outputs": [
    {
     "name": "stdout",
     "output_type": "stream",
     "text": [
      "<class 'pandas.core.frame.DataFrame'>\n",
      "RangeIndex: 10786 entries, 0 to 10785\n",
      "Data columns (total 27 columns):\n",
      " #   Column                                  Non-Null Count  Dtype  \n",
      "---  ------                                  --------------  -----  \n",
      " 0   IDCarga                                 10786 non-null  int64  \n",
      " 1   Origem                                  10786 non-null  int8   \n",
      " 2   CDMercadoria                            10786 non-null  int8   \n",
      " 3   Tipo Operação da Carga                  10786 non-null  int8   \n",
      " 4   Carga Geral Acondicionamento            10786 non-null  int8   \n",
      " 5   ConteinerEstado                         10786 non-null  int8   \n",
      " 6   Tipo Navegação                          10786 non-null  int8   \n",
      " 7   FlagAutorizacao                         10786 non-null  int8   \n",
      " 8   FlagCabotagem                           10786 non-null  boolean\n",
      " 9   FlagCabotagemMovimentacao               10786 non-null  boolean\n",
      " 10  FlagConteinerTamanho                    10786 non-null  int8   \n",
      " 11  FlagLongoCurso                          10786 non-null  boolean\n",
      " 12  FlagMCOperacaoCarga                     10786 non-null  boolean\n",
      " 13  FlagOffshore                            10786 non-null  boolean\n",
      " 14  FlagTransporteViaInterioir              10786 non-null  boolean\n",
      " 15  Percurso Transporte em vias Interiores  10786 non-null  int8   \n",
      " 16  Percurso Transporte Interiores          10786 non-null  int8   \n",
      " 17  STNaturezaCarga                         10786 non-null  int8   \n",
      " 18  STSH2                                   10786 non-null  int8   \n",
      " 19  STSH4                                   10786 non-null  int8   \n",
      " 20  Natureza da Carga                       10786 non-null  int8   \n",
      " 21  TEU                                     10786 non-null  float64\n",
      " 22  QTCarga                                 10786 non-null  UInt16 \n",
      " 23  VLPesoCargaBruta                        10786 non-null  float64\n",
      " 24  Ano                                     10786 non-null  UInt16 \n",
      " 25  CDMercadoriaConteinerizada              10786 non-null  int16  \n",
      " 26  VLPesoCargaConteinerizada               6526 non-null   float64\n",
      "dtypes: UInt16(2), boolean(6), float64(3), int16(1), int64(1), int8(14)\n",
      "memory usage: 695.3 KB\n"
     ]
    }
   ],
   "source": [
    "df_cat.info()"
   ]
  },
  {
   "cell_type": "code",
   "execution_count": 11,
   "metadata": {},
   "outputs": [],
   "source": [
    "df_cat.drop(\"IDCarga\",axis=1, inplace=True)"
   ]
  },
  {
   "cell_type": "code",
   "execution_count": 12,
   "metadata": {},
   "outputs": [],
   "source": [
    "df_cat = df_cat.fillna(0)"
   ]
  },
  {
   "cell_type": "markdown",
   "metadata": {},
   "source": [
    "### Normalização dos dados"
   ]
  },
  {
   "cell_type": "code",
   "execution_count": 13,
   "metadata": {},
   "outputs": [],
   "source": [
    "normalizador = StandardScaler()"
   ]
  },
  {
   "cell_type": "code",
   "execution_count": 14,
   "metadata": {},
   "outputs": [],
   "source": [
    "arr_cat_norm = normalizador.fit_transform(df_cat)"
   ]
  },
  {
   "cell_type": "markdown",
   "metadata": {},
   "source": [
    "## PCA"
   ]
  },
  {
   "cell_type": "markdown",
   "metadata": {},
   "source": [
    "### Estimador e projeção"
   ]
  },
  {
   "cell_type": "code",
   "execution_count": 15,
   "metadata": {},
   "outputs": [],
   "source": [
    "pca = PCA()"
   ]
  },
  {
   "cell_type": "code",
   "execution_count": 16,
   "metadata": {},
   "outputs": [],
   "source": [
    "df_proj = pd.DataFrame(pca.fit_transform(arr_cat_norm), columns=pca.get_feature_names_out())"
   ]
  },
  {
   "cell_type": "markdown",
   "metadata": {},
   "source": [
    "### Influência nas colunas do PCA"
   ]
  },
  {
   "cell_type": "code",
   "execution_count": 17,
   "metadata": {},
   "outputs": [],
   "source": [
    "df_comp = pd.DataFrame(pca.components_, pca.get_feature_names_out(), df_cat.columns)"
   ]
  },
  {
   "cell_type": "markdown",
   "metadata": {},
   "source": [
    "Maior influência em pca0"
   ]
  },
  {
   "cell_type": "code",
   "execution_count": 18,
   "metadata": {},
   "outputs": [
    {
     "data": {
      "text/html": [
       "<div>\n",
       "<style scoped>\n",
       "    .dataframe tbody tr th:only-of-type {\n",
       "        vertical-align: middle;\n",
       "    }\n",
       "\n",
       "    .dataframe tbody tr th {\n",
       "        vertical-align: top;\n",
       "    }\n",
       "\n",
       "    .dataframe thead th {\n",
       "        text-align: right;\n",
       "    }\n",
       "</style>\n",
       "<table border=\"1\" class=\"dataframe\">\n",
       "  <thead>\n",
       "    <tr style=\"text-align: right;\">\n",
       "      <th></th>\n",
       "      <th>ConteinerEstado</th>\n",
       "      <th>Natureza da Carga</th>\n",
       "      <th>Carga Geral Acondicionamento</th>\n",
       "      <th>FlagConteinerTamanho</th>\n",
       "      <th>CDMercadoriaConteinerizada</th>\n",
       "      <th>Ano</th>\n",
       "      <th>TEU</th>\n",
       "      <th>VLPesoCargaConteinerizada</th>\n",
       "      <th>VLPesoCargaBruta</th>\n",
       "      <th>CDMercadoria</th>\n",
       "      <th>...</th>\n",
       "      <th>Tipo Navegação</th>\n",
       "      <th>FlagCabotagemMovimentacao</th>\n",
       "      <th>FlagMCOperacaoCarga</th>\n",
       "      <th>FlagOffshore</th>\n",
       "      <th>Percurso Transporte em vias Interiores</th>\n",
       "      <th>Percurso Transporte Interiores</th>\n",
       "      <th>FlagLongoCurso</th>\n",
       "      <th>FlagCabotagem</th>\n",
       "      <th>FlagAutorizacao</th>\n",
       "      <th>FlagTransporteViaInterioir</th>\n",
       "    </tr>\n",
       "  </thead>\n",
       "  <tbody>\n",
       "    <tr>\n",
       "      <th>pca0</th>\n",
       "      <td>0.420714</td>\n",
       "      <td>0.419727</td>\n",
       "      <td>0.414613</td>\n",
       "      <td>0.412158</td>\n",
       "      <td>0.330894</td>\n",
       "      <td>0.241245</td>\n",
       "      <td>0.221143</td>\n",
       "      <td>0.168935</td>\n",
       "      <td>0.131503</td>\n",
       "      <td>0.124762</td>\n",
       "      <td>...</td>\n",
       "      <td>2.168404e-19</td>\n",
       "      <td>5.293956e-23</td>\n",
       "      <td>6.462349e-27</td>\n",
       "      <td>2.019484e-28</td>\n",
       "      <td>9.860761e-32</td>\n",
       "      <td>0.0</td>\n",
       "      <td>0.0</td>\n",
       "      <td>0.000000e+00</td>\n",
       "      <td>0.000000e+00</td>\n",
       "      <td>0.000000e+00</td>\n",
       "    </tr>\n",
       "    <tr>\n",
       "      <th>pca1</th>\n",
       "      <td>0.034708</td>\n",
       "      <td>0.031716</td>\n",
       "      <td>0.022044</td>\n",
       "      <td>0.050664</td>\n",
       "      <td>0.004886</td>\n",
       "      <td>0.014061</td>\n",
       "      <td>0.028583</td>\n",
       "      <td>0.049442</td>\n",
       "      <td>0.008547</td>\n",
       "      <td>0.050889</td>\n",
       "      <td>...</td>\n",
       "      <td>1.110223e-16</td>\n",
       "      <td>2.168404e-19</td>\n",
       "      <td>2.117582e-22</td>\n",
       "      <td>2.646978e-23</td>\n",
       "      <td>2.067952e-25</td>\n",
       "      <td>0.0</td>\n",
       "      <td>0.0</td>\n",
       "      <td>0.000000e+00</td>\n",
       "      <td>1.387779e-17</td>\n",
       "      <td>3.308722e-24</td>\n",
       "    </tr>\n",
       "    <tr>\n",
       "      <th>pca2</th>\n",
       "      <td>0.094953</td>\n",
       "      <td>0.089061</td>\n",
       "      <td>0.087151</td>\n",
       "      <td>0.085127</td>\n",
       "      <td>0.222318</td>\n",
       "      <td>0.019314</td>\n",
       "      <td>0.487383</td>\n",
       "      <td>0.404608</td>\n",
       "      <td>0.353376</td>\n",
       "      <td>0.459519</td>\n",
       "      <td>...</td>\n",
       "      <td>2.775558e-17</td>\n",
       "      <td>4.336809e-19</td>\n",
       "      <td>3.388132e-21</td>\n",
       "      <td>0.000000e+00</td>\n",
       "      <td>6.617445e-24</td>\n",
       "      <td>0.0</td>\n",
       "      <td>0.0</td>\n",
       "      <td>3.469447e-18</td>\n",
       "      <td>6.938894e-18</td>\n",
       "      <td>0.000000e+00</td>\n",
       "    </tr>\n",
       "  </tbody>\n",
       "</table>\n",
       "<p>3 rows × 26 columns</p>\n",
       "</div>"
      ],
      "text/plain": [
       "      ConteinerEstado  Natureza da Carga  Carga Geral Acondicionamento  \\\n",
       "pca0         0.420714           0.419727                      0.414613   \n",
       "pca1         0.034708           0.031716                      0.022044   \n",
       "pca2         0.094953           0.089061                      0.087151   \n",
       "\n",
       "      FlagConteinerTamanho  CDMercadoriaConteinerizada       Ano       TEU  \\\n",
       "pca0              0.412158                    0.330894  0.241245  0.221143   \n",
       "pca1              0.050664                    0.004886  0.014061  0.028583   \n",
       "pca2              0.085127                    0.222318  0.019314  0.487383   \n",
       "\n",
       "      VLPesoCargaConteinerizada  VLPesoCargaBruta  CDMercadoria  ...  \\\n",
       "pca0                   0.168935          0.131503      0.124762  ...   \n",
       "pca1                   0.049442          0.008547      0.050889  ...   \n",
       "pca2                   0.404608          0.353376      0.459519  ...   \n",
       "\n",
       "      Tipo Navegação  FlagCabotagemMovimentacao  FlagMCOperacaoCarga  \\\n",
       "pca0    2.168404e-19               5.293956e-23         6.462349e-27   \n",
       "pca1    1.110223e-16               2.168404e-19         2.117582e-22   \n",
       "pca2    2.775558e-17               4.336809e-19         3.388132e-21   \n",
       "\n",
       "      FlagOffshore  Percurso Transporte em vias Interiores  \\\n",
       "pca0  2.019484e-28                            9.860761e-32   \n",
       "pca1  2.646978e-23                            2.067952e-25   \n",
       "pca2  0.000000e+00                            6.617445e-24   \n",
       "\n",
       "      Percurso Transporte Interiores  FlagLongoCurso  FlagCabotagem  \\\n",
       "pca0                             0.0             0.0   0.000000e+00   \n",
       "pca1                             0.0             0.0   0.000000e+00   \n",
       "pca2                             0.0             0.0   3.469447e-18   \n",
       "\n",
       "      FlagAutorizacao  FlagTransporteViaInterioir  \n",
       "pca0     0.000000e+00                0.000000e+00  \n",
       "pca1     1.387779e-17                3.308722e-24  \n",
       "pca2     6.938894e-18                0.000000e+00  \n",
       "\n",
       "[3 rows x 26 columns]"
      ]
     },
     "execution_count": 18,
     "metadata": {},
     "output_type": "execute_result"
    }
   ],
   "source": [
    "df_comp.abs().sort_values(by=\"pca0\", axis=1, ascending=False).head(3)"
   ]
  },
  {
   "cell_type": "markdown",
   "metadata": {},
   "source": [
    "Logo, \"ConteinerEstado\" é redundante!"
   ]
  },
  {
   "cell_type": "markdown",
   "metadata": {},
   "source": [
    "Maior influência em pca1"
   ]
  },
  {
   "cell_type": "code",
   "execution_count": 19,
   "metadata": {},
   "outputs": [
    {
     "data": {
      "text/html": [
       "<div>\n",
       "<style scoped>\n",
       "    .dataframe tbody tr th:only-of-type {\n",
       "        vertical-align: middle;\n",
       "    }\n",
       "\n",
       "    .dataframe tbody tr th {\n",
       "        vertical-align: top;\n",
       "    }\n",
       "\n",
       "    .dataframe thead th {\n",
       "        text-align: right;\n",
       "    }\n",
       "</style>\n",
       "<table border=\"1\" class=\"dataframe\">\n",
       "  <thead>\n",
       "    <tr style=\"text-align: right;\">\n",
       "      <th></th>\n",
       "      <th>STSH2</th>\n",
       "      <th>STNaturezaCarga</th>\n",
       "      <th>STSH4</th>\n",
       "      <th>CDMercadoria</th>\n",
       "      <th>FlagConteinerTamanho</th>\n",
       "      <th>VLPesoCargaConteinerizada</th>\n",
       "      <th>ConteinerEstado</th>\n",
       "      <th>QTCarga</th>\n",
       "      <th>Natureza da Carga</th>\n",
       "      <th>Origem</th>\n",
       "      <th>...</th>\n",
       "      <th>Tipo Navegação</th>\n",
       "      <th>FlagAutorizacao</th>\n",
       "      <th>FlagCabotagemMovimentacao</th>\n",
       "      <th>FlagMCOperacaoCarga</th>\n",
       "      <th>FlagOffshore</th>\n",
       "      <th>FlagTransporteViaInterioir</th>\n",
       "      <th>Percurso Transporte em vias Interiores</th>\n",
       "      <th>FlagLongoCurso</th>\n",
       "      <th>Percurso Transporte Interiores</th>\n",
       "      <th>FlagCabotagem</th>\n",
       "    </tr>\n",
       "  </thead>\n",
       "  <tbody>\n",
       "    <tr>\n",
       "      <th>pca0</th>\n",
       "      <td>0.104276</td>\n",
       "      <td>0.059859</td>\n",
       "      <td>0.024271</td>\n",
       "      <td>0.124762</td>\n",
       "      <td>0.412158</td>\n",
       "      <td>0.168935</td>\n",
       "      <td>0.420714</td>\n",
       "      <td>0.045256</td>\n",
       "      <td>0.419727</td>\n",
       "      <td>0.088005</td>\n",
       "      <td>...</td>\n",
       "      <td>2.168404e-19</td>\n",
       "      <td>0.000000e+00</td>\n",
       "      <td>5.293956e-23</td>\n",
       "      <td>6.462349e-27</td>\n",
       "      <td>2.019484e-28</td>\n",
       "      <td>0.000000e+00</td>\n",
       "      <td>9.860761e-32</td>\n",
       "      <td>0.0</td>\n",
       "      <td>0.0</td>\n",
       "      <td>0.0</td>\n",
       "    </tr>\n",
       "    <tr>\n",
       "      <th>pca1</th>\n",
       "      <td>0.599115</td>\n",
       "      <td>0.577244</td>\n",
       "      <td>0.542411</td>\n",
       "      <td>0.050889</td>\n",
       "      <td>0.050664</td>\n",
       "      <td>0.049442</td>\n",
       "      <td>0.034708</td>\n",
       "      <td>0.032122</td>\n",
       "      <td>0.031716</td>\n",
       "      <td>0.030769</td>\n",
       "      <td>...</td>\n",
       "      <td>1.110223e-16</td>\n",
       "      <td>1.387779e-17</td>\n",
       "      <td>2.168404e-19</td>\n",
       "      <td>2.117582e-22</td>\n",
       "      <td>2.646978e-23</td>\n",
       "      <td>3.308722e-24</td>\n",
       "      <td>2.067952e-25</td>\n",
       "      <td>0.0</td>\n",
       "      <td>0.0</td>\n",
       "      <td>0.0</td>\n",
       "    </tr>\n",
       "  </tbody>\n",
       "</table>\n",
       "<p>2 rows × 26 columns</p>\n",
       "</div>"
      ],
      "text/plain": [
       "         STSH2  STNaturezaCarga     STSH4  CDMercadoria  FlagConteinerTamanho  \\\n",
       "pca0  0.104276         0.059859  0.024271      0.124762              0.412158   \n",
       "pca1  0.599115         0.577244  0.542411      0.050889              0.050664   \n",
       "\n",
       "      VLPesoCargaConteinerizada  ConteinerEstado   QTCarga  Natureza da Carga  \\\n",
       "pca0                   0.168935         0.420714  0.045256           0.419727   \n",
       "pca1                   0.049442         0.034708  0.032122           0.031716   \n",
       "\n",
       "        Origem  ...  Tipo Navegação  FlagAutorizacao  \\\n",
       "pca0  0.088005  ...    2.168404e-19     0.000000e+00   \n",
       "pca1  0.030769  ...    1.110223e-16     1.387779e-17   \n",
       "\n",
       "      FlagCabotagemMovimentacao  FlagMCOperacaoCarga  FlagOffshore  \\\n",
       "pca0               5.293956e-23         6.462349e-27  2.019484e-28   \n",
       "pca1               2.168404e-19         2.117582e-22  2.646978e-23   \n",
       "\n",
       "      FlagTransporteViaInterioir  Percurso Transporte em vias Interiores  \\\n",
       "pca0                0.000000e+00                            9.860761e-32   \n",
       "pca1                3.308722e-24                            2.067952e-25   \n",
       "\n",
       "      FlagLongoCurso  Percurso Transporte Interiores  FlagCabotagem  \n",
       "pca0             0.0                             0.0            0.0  \n",
       "pca1             0.0                             0.0            0.0  \n",
       "\n",
       "[2 rows x 26 columns]"
      ]
     },
     "execution_count": 19,
     "metadata": {},
     "output_type": "execute_result"
    }
   ],
   "source": [
    "df_comp.abs().sort_values(by=\"pca1\", axis=1, ascending=False).head(2)"
   ]
  },
  {
   "cell_type": "markdown",
   "metadata": {},
   "source": [
    "Mais influênciado por \"Ano\""
   ]
  },
  {
   "cell_type": "code",
   "execution_count": 20,
   "metadata": {},
   "outputs": [
    {
     "data": {
      "text/html": [
       "<div>\n",
       "<style scoped>\n",
       "    .dataframe tbody tr th:only-of-type {\n",
       "        vertical-align: middle;\n",
       "    }\n",
       "\n",
       "    .dataframe tbody tr th {\n",
       "        vertical-align: top;\n",
       "    }\n",
       "\n",
       "    .dataframe thead th {\n",
       "        text-align: right;\n",
       "    }\n",
       "</style>\n",
       "<table border=\"1\" class=\"dataframe\">\n",
       "  <thead>\n",
       "    <tr style=\"text-align: right;\">\n",
       "      <th></th>\n",
       "      <th>Origem</th>\n",
       "      <th>CDMercadoria</th>\n",
       "      <th>Tipo Operação da Carga</th>\n",
       "      <th>Carga Geral Acondicionamento</th>\n",
       "      <th>ConteinerEstado</th>\n",
       "      <th>Tipo Navegação</th>\n",
       "      <th>FlagAutorizacao</th>\n",
       "      <th>FlagCabotagem</th>\n",
       "      <th>FlagCabotagemMovimentacao</th>\n",
       "      <th>FlagConteinerTamanho</th>\n",
       "      <th>...</th>\n",
       "      <th>STNaturezaCarga</th>\n",
       "      <th>STSH2</th>\n",
       "      <th>STSH4</th>\n",
       "      <th>Natureza da Carga</th>\n",
       "      <th>TEU</th>\n",
       "      <th>QTCarga</th>\n",
       "      <th>VLPesoCargaBruta</th>\n",
       "      <th>Ano</th>\n",
       "      <th>CDMercadoriaConteinerizada</th>\n",
       "      <th>VLPesoCargaConteinerizada</th>\n",
       "    </tr>\n",
       "  </thead>\n",
       "  <tbody>\n",
       "    <tr>\n",
       "      <th>pca6</th>\n",
       "      <td>0.708088</td>\n",
       "      <td>0.145190</td>\n",
       "      <td>0.248002</td>\n",
       "      <td>0.082364</td>\n",
       "      <td>0.068586</td>\n",
       "      <td>2.775558e-17</td>\n",
       "      <td>5.551115e-17</td>\n",
       "      <td>0.000000e+00</td>\n",
       "      <td>5.551115e-17</td>\n",
       "      <td>0.018053</td>\n",
       "      <td>...</td>\n",
       "      <td>0.091587</td>\n",
       "      <td>0.032708</td>\n",
       "      <td>0.045834</td>\n",
       "      <td>0.080594</td>\n",
       "      <td>0.143296</td>\n",
       "      <td>0.188745</td>\n",
       "      <td>0.310251</td>\n",
       "      <td>0.227464</td>\n",
       "      <td>0.153504</td>\n",
       "      <td>0.398046</td>\n",
       "    </tr>\n",
       "    <tr>\n",
       "      <th>pca7</th>\n",
       "      <td>0.450532</td>\n",
       "      <td>0.474770</td>\n",
       "      <td>0.059225</td>\n",
       "      <td>0.045514</td>\n",
       "      <td>0.041265</td>\n",
       "      <td>0.000000e+00</td>\n",
       "      <td>5.551115e-17</td>\n",
       "      <td>5.551115e-17</td>\n",
       "      <td>0.000000e+00</td>\n",
       "      <td>0.156733</td>\n",
       "      <td>...</td>\n",
       "      <td>0.045974</td>\n",
       "      <td>0.007786</td>\n",
       "      <td>0.055091</td>\n",
       "      <td>0.028369</td>\n",
       "      <td>0.026784</td>\n",
       "      <td>0.042153</td>\n",
       "      <td>0.446746</td>\n",
       "      <td>0.045511</td>\n",
       "      <td>0.113574</td>\n",
       "      <td>0.562767</td>\n",
       "    </tr>\n",
       "    <tr>\n",
       "      <th>pca2</th>\n",
       "      <td>0.341717</td>\n",
       "      <td>0.459519</td>\n",
       "      <td>0.147858</td>\n",
       "      <td>0.087151</td>\n",
       "      <td>0.094953</td>\n",
       "      <td>2.775558e-17</td>\n",
       "      <td>6.938894e-18</td>\n",
       "      <td>3.469447e-18</td>\n",
       "      <td>4.336809e-19</td>\n",
       "      <td>0.085127</td>\n",
       "      <td>...</td>\n",
       "      <td>0.007587</td>\n",
       "      <td>0.000453</td>\n",
       "      <td>0.068073</td>\n",
       "      <td>0.089061</td>\n",
       "      <td>0.487383</td>\n",
       "      <td>0.194437</td>\n",
       "      <td>0.353376</td>\n",
       "      <td>0.019314</td>\n",
       "      <td>0.222318</td>\n",
       "      <td>0.404608</td>\n",
       "    </tr>\n",
       "  </tbody>\n",
       "</table>\n",
       "<p>3 rows × 26 columns</p>\n",
       "</div>"
      ],
      "text/plain": [
       "        Origem  CDMercadoria  Tipo Operação da Carga  \\\n",
       "pca6  0.708088      0.145190                0.248002   \n",
       "pca7  0.450532      0.474770                0.059225   \n",
       "pca2  0.341717      0.459519                0.147858   \n",
       "\n",
       "      Carga Geral Acondicionamento  ConteinerEstado  Tipo Navegação  \\\n",
       "pca6                      0.082364         0.068586    2.775558e-17   \n",
       "pca7                      0.045514         0.041265    0.000000e+00   \n",
       "pca2                      0.087151         0.094953    2.775558e-17   \n",
       "\n",
       "      FlagAutorizacao  FlagCabotagem  FlagCabotagemMovimentacao  \\\n",
       "pca6     5.551115e-17   0.000000e+00               5.551115e-17   \n",
       "pca7     5.551115e-17   5.551115e-17               0.000000e+00   \n",
       "pca2     6.938894e-18   3.469447e-18               4.336809e-19   \n",
       "\n",
       "      FlagConteinerTamanho  ...  STNaturezaCarga     STSH2     STSH4  \\\n",
       "pca6              0.018053  ...         0.091587  0.032708  0.045834   \n",
       "pca7              0.156733  ...         0.045974  0.007786  0.055091   \n",
       "pca2              0.085127  ...         0.007587  0.000453  0.068073   \n",
       "\n",
       "      Natureza da Carga       TEU   QTCarga  VLPesoCargaBruta       Ano  \\\n",
       "pca6           0.080594  0.143296  0.188745          0.310251  0.227464   \n",
       "pca7           0.028369  0.026784  0.042153          0.446746  0.045511   \n",
       "pca2           0.089061  0.487383  0.194437          0.353376  0.019314   \n",
       "\n",
       "      CDMercadoriaConteinerizada  VLPesoCargaConteinerizada  \n",
       "pca6                    0.153504                   0.398046  \n",
       "pca7                    0.113574                   0.562767  \n",
       "pca2                    0.222318                   0.404608  \n",
       "\n",
       "[3 rows x 26 columns]"
      ]
     },
     "execution_count": 20,
     "metadata": {},
     "output_type": "execute_result"
    }
   ],
   "source": [
    "df_comp.abs().sort_values(by=\"Origem\", axis=0, ascending=False).head(3)"
   ]
  },
  {
   "cell_type": "code",
   "execution_count": 21,
   "metadata": {},
   "outputs": [
    {
     "data": {
      "text/plain": [
       "[NaN, 'Cheio']\n",
       "Categories (1, object): ['Cheio']"
      ]
     },
     "execution_count": 21,
     "metadata": {},
     "output_type": "execute_result"
    }
   ],
   "source": [
    "df_mestre[\"ConteinerEstado\"].unique()"
   ]
  },
  {
   "cell_type": "markdown",
   "metadata": {},
   "source": [
    "## Plotagem"
   ]
  },
  {
   "cell_type": "code",
   "execution_count": 22,
   "metadata": {},
   "outputs": [
    {
     "data": {
      "text/plain": [
       "['Granel Sólido',\n",
       " 'Carga Conteinerizada',\n",
       " 'Carga Geral',\n",
       " 'Granel Líquido e Gasoso']"
      ]
     },
     "execution_count": 22,
     "metadata": {},
     "output_type": "execute_result"
    }
   ],
   "source": [
    "df_mestre[\"Natureza da Carga\"].unique().tolist()"
   ]
  },
  {
   "cell_type": "code",
   "execution_count": 23,
   "metadata": {},
   "outputs": [],
   "source": [
    "x_col = \"Natureza da Carga\""
   ]
  },
  {
   "cell_type": "code",
   "execution_count": 24,
   "metadata": {},
   "outputs": [],
   "source": [
    "x_estilos = {\n",
    "    'Granel Sólido': ('#1f77b4', 'o'),\n",
    "    'Carga Conteinerizada': ('#ff7f0e', 's'),\n",
    "    'Carga Geral': ('#2ca02c', 'v'),\n",
    "    'Granel Líquido e Gasoso': ('#d62728', '^')\n",
    "}"
   ]
  },
  {
   "cell_type": "code",
   "execution_count": 25,
   "metadata": {},
   "outputs": [
    {
     "data": {
      "image/png": "[encoded data removed]",
      "text/plain": [
       "<Figure size 1200x800 with 1 Axes>"
      ]
     },
     "metadata": {},
     "output_type": "display_data"
    }
   ],
   "source": [
    "plt.figure(figsize=(12, 8))\n",
    "plt.title(\"PCA0 X PCA1\")\n",
    "plt.xlabel(\"PCA0\")\n",
    "plt.ylabel(\"PCA1\")\n",
    "plt.grid(True)\n",
    "\n",
    "# Plotar os dados\n",
    "for x_, (cor, marker) in x_estilos.items():\n",
    "    subset = df_proj[df_mestre[x_col] == x_]\n",
    "    plt.scatter(subset['pca0'], subset['pca1'], marker=marker, color=cor, label=str(x_), alpha=0.7, edgecolor='k', s=30)\n",
    "\n",
    "plt.legend()\n",
    "plt.show()"
   ]
  },
  {
   "cell_type": "markdown",
   "metadata": {},
   "source": [
    "Em teoria se eu tirar esses indicadores, isso ainda vai ser um padrão dos dados!"
   ]
  },
  {
   "cell_type": "code",
   "execution_count": null,
   "metadata": {},
   "outputs": [],
   "source": []
  }
 ],
 "metadata": {
  "kernelspec": {
   "display_name": "base",
   "language": "python",
   "name": "python3"
  },
  "language_info": {
   "codemirror_mode": {
    "name": "ipython",
    "version": 3
   },
   "file_extension": ".py",
   "mimetype": "text/x-python",
   "name": "python",
   "nbconvert_exporter": "python",
   "pygments_lexer": "ipython3",
   "version": "3.12.4"
  }
 },
 "nbformat": 4,
 "nbformat_minor": 2
}
