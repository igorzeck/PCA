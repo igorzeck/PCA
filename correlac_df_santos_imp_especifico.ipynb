{
 "cells": [
  {
   "cell_type": "markdown",
   "metadata": {},
   "source": [
    "# PCA de importações de Santos"
   ]
  },
  {
   "cell_type": "markdown",
   "metadata": {},
   "source": [
    "## Setup"
   ]
  },
  {
   "cell_type": "markdown",
   "metadata": {},
   "source": [
    "### Importações"
   ]
  },
  {
   "cell_type": "code",
   "execution_count": 113,
   "metadata": {},
   "outputs": [],
   "source": [
    "import pandas as pd\n",
    "import numpy as np\n",
    "import matplotlib.pyplot as plt\n",
    "from sklearn.decomposition import PCA\n",
    "from sklearn.preprocessing import StandardScaler"
   ]
  },
  {
   "cell_type": "code",
   "execution_count": 114,
   "metadata": {},
   "outputs": [],
   "source": [
    "dict_dtypes = pd.read_pickle(\"datasets/aux_carga_dtypes.pkl\").to_dict()"
   ]
  },
  {
   "cell_type": "code",
   "execution_count": 115,
   "metadata": {},
   "outputs": [],
   "source": [
    "df = pd.read_csv(\"datasets/df_rus_ua_psantos.csv\", decimal=\",\", dtype=dict_dtypes)"
   ]
  },
  {
   "cell_type": "markdown",
   "metadata": {},
   "source": [
    "### Limpeza"
   ]
  },
  {
   "cell_type": "code",
   "execution_count": 116,
   "metadata": {},
   "outputs": [
    {
     "data": {
      "text/plain": [
       "Index(['IDCarga', 'IDAtracacao', 'Origem', 'Destino', 'CDMercadoria',\n",
       "       'Tipo Operação da Carga', 'Carga Geral Acondicionamento',\n",
       "       'ConteinerEstado', 'Tipo Navegação', 'FlagAutorizacao', 'FlagCabotagem',\n",
       "       'FlagCabotagemMovimentacao', 'FlagConteinerTamanho', 'FlagLongoCurso',\n",
       "       'FlagMCOperacaoCarga', 'FlagOffshore', 'FlagTransporteViaInterioir',\n",
       "       'Percurso Transporte em vias Interiores',\n",
       "       'Percurso Transporte Interiores', 'STNaturezaCarga', 'STSH2', 'STSH4',\n",
       "       'Natureza da Carga', 'Sentido', 'TEU', 'QTCarga', 'VLPesoCargaBruta',\n",
       "       'Ano'],\n",
       "      dtype='object')"
      ]
     },
     "execution_count": 116,
     "metadata": {},
     "output_type": "execute_result"
    }
   ],
   "source": [
    "df.columns"
   ]
  },
  {
   "cell_type": "code",
   "execution_count": 117,
   "metadata": {},
   "outputs": [],
   "source": [
    "df.drop([\"IDAtracacao\",\n",
    "         \"Destino\",\n",
    "         \"Sentido\",\n",
    "         \"Carga Geral Acondicionamento\",\n",
    "         \"ConteinerEstado\",\n",
    "         \"FlagConteinerTamanho\"], axis=1, inplace=True)"
   ]
  },
  {
   "cell_type": "code",
   "execution_count": 118,
   "metadata": {},
   "outputs": [],
   "source": [
    "df_1 = pd.DataFrame({\"A\":[1, 2, 2, 3], \"B\": [\"V\", \"E\", \"F\", \"G\"]})\n",
    "df_2 = pd.DataFrame({\"A\":[1, 1, 1, 3], \"C\": [\"A\", \"B\", \"C\", \"D\"]})"
   ]
  },
  {
   "cell_type": "code",
   "execution_count": 119,
   "metadata": {},
   "outputs": [
    {
     "data": {
      "text/html": [
       "<div>\n",
       "<style scoped>\n",
       "    .dataframe tbody tr th:only-of-type {\n",
       "        vertical-align: middle;\n",
       "    }\n",
       "\n",
       "    .dataframe tbody tr th {\n",
       "        vertical-align: top;\n",
       "    }\n",
       "\n",
       "    .dataframe thead th {\n",
       "        text-align: right;\n",
       "    }\n",
       "</style>\n",
       "<table border=\"1\" class=\"dataframe\">\n",
       "  <thead>\n",
       "    <tr style=\"text-align: right;\">\n",
       "      <th></th>\n",
       "      <th>A</th>\n",
       "      <th>B</th>\n",
       "      <th>C</th>\n",
       "    </tr>\n",
       "  </thead>\n",
       "  <tbody>\n",
       "    <tr>\n",
       "      <th>0</th>\n",
       "      <td>1</td>\n",
       "      <td>V</td>\n",
       "      <td>A</td>\n",
       "    </tr>\n",
       "    <tr>\n",
       "      <th>1</th>\n",
       "      <td>1</td>\n",
       "      <td>V</td>\n",
       "      <td>B</td>\n",
       "    </tr>\n",
       "    <tr>\n",
       "      <th>2</th>\n",
       "      <td>1</td>\n",
       "      <td>V</td>\n",
       "      <td>C</td>\n",
       "    </tr>\n",
       "    <tr>\n",
       "      <th>3</th>\n",
       "      <td>2</td>\n",
       "      <td>E</td>\n",
       "      <td>NaN</td>\n",
       "    </tr>\n",
       "    <tr>\n",
       "      <th>4</th>\n",
       "      <td>2</td>\n",
       "      <td>F</td>\n",
       "      <td>NaN</td>\n",
       "    </tr>\n",
       "    <tr>\n",
       "      <th>5</th>\n",
       "      <td>3</td>\n",
       "      <td>G</td>\n",
       "      <td>D</td>\n",
       "    </tr>\n",
       "  </tbody>\n",
       "</table>\n",
       "</div>"
      ],
      "text/plain": [
       "   A  B    C\n",
       "0  1  V    A\n",
       "1  1  V    B\n",
       "2  1  V    C\n",
       "3  2  E  NaN\n",
       "4  2  F  NaN\n",
       "5  3  G    D"
      ]
     },
     "execution_count": 119,
     "metadata": {},
     "output_type": "execute_result"
    }
   ],
   "source": [
    "df_3 = df_1.merge(df_2, on=\"A\", how=\"left\")\n",
    "df_3"
   ]
  },
  {
   "cell_type": "code",
   "execution_count": 120,
   "metadata": {},
   "outputs": [
    {
     "data": {
      "text/html": [
       "<div>\n",
       "<style scoped>\n",
       "    .dataframe tbody tr th:only-of-type {\n",
       "        vertical-align: middle;\n",
       "    }\n",
       "\n",
       "    .dataframe tbody tr th {\n",
       "        vertical-align: top;\n",
       "    }\n",
       "\n",
       "    .dataframe thead th {\n",
       "        text-align: right;\n",
       "    }\n",
       "</style>\n",
       "<table border=\"1\" class=\"dataframe\">\n",
       "  <thead>\n",
       "    <tr style=\"text-align: right;\">\n",
       "      <th></th>\n",
       "      <th>A</th>\n",
       "      <th>B</th>\n",
       "      <th>C</th>\n",
       "    </tr>\n",
       "  </thead>\n",
       "  <tbody>\n",
       "    <tr>\n",
       "      <th>0</th>\n",
       "      <td>1</td>\n",
       "      <td>A</td>\n",
       "      <td>A</td>\n",
       "    </tr>\n",
       "    <tr>\n",
       "      <th>1</th>\n",
       "      <td>1</td>\n",
       "      <td>B</td>\n",
       "      <td>B</td>\n",
       "    </tr>\n",
       "    <tr>\n",
       "      <th>2</th>\n",
       "      <td>1</td>\n",
       "      <td>C</td>\n",
       "      <td>C</td>\n",
       "    </tr>\n",
       "    <tr>\n",
       "      <th>3</th>\n",
       "      <td>2</td>\n",
       "      <td>E</td>\n",
       "      <td>NaN</td>\n",
       "    </tr>\n",
       "    <tr>\n",
       "      <th>4</th>\n",
       "      <td>2</td>\n",
       "      <td>F</td>\n",
       "      <td>NaN</td>\n",
       "    </tr>\n",
       "    <tr>\n",
       "      <th>5</th>\n",
       "      <td>3</td>\n",
       "      <td>D</td>\n",
       "      <td>D</td>\n",
       "    </tr>\n",
       "  </tbody>\n",
       "</table>\n",
       "</div>"
      ],
      "text/plain": [
       "   A  B    C\n",
       "0  1  A    A\n",
       "1  1  B    B\n",
       "2  1  C    C\n",
       "3  2  E  NaN\n",
       "4  2  F  NaN\n",
       "5  3  D    D"
      ]
     },
     "execution_count": 120,
     "metadata": {},
     "output_type": "execute_result"
    }
   ],
   "source": [
    "df_4 = df_3.copy()\n",
    "df_4[\"B\"] = df_3[\"C\"].combine_first(df_3[\"B\"])\n",
    "df_4"
   ]
  },
  {
   "cell_type": "code",
   "execution_count": 142,
   "metadata": {},
   "outputs": [
    {
     "data": {
      "text/html": [
       "<div>\n",
       "<style scoped>\n",
       "    .dataframe tbody tr th:only-of-type {\n",
       "        vertical-align: middle;\n",
       "    }\n",
       "\n",
       "    .dataframe tbody tr th {\n",
       "        vertical-align: top;\n",
       "    }\n",
       "\n",
       "    .dataframe thead th {\n",
       "        text-align: right;\n",
       "    }\n",
       "</style>\n",
       "<table border=\"1\" class=\"dataframe\">\n",
       "  <thead>\n",
       "    <tr style=\"text-align: right;\">\n",
       "      <th></th>\n",
       "      <th>A</th>\n",
       "      <th>B</th>\n",
       "    </tr>\n",
       "  </thead>\n",
       "  <tbody>\n",
       "    <tr>\n",
       "      <th>0</th>\n",
       "      <td>A</td>\n",
       "      <td>3</td>\n",
       "    </tr>\n",
       "    <tr>\n",
       "      <th>1</th>\n",
       "      <td>1</td>\n",
       "      <td>4</td>\n",
       "    </tr>\n",
       "    <tr>\n",
       "      <th>2</th>\n",
       "      <td>B</td>\n",
       "      <td>5</td>\n",
       "    </tr>\n",
       "  </tbody>\n",
       "</table>\n",
       "</div>"
      ],
      "text/plain": [
       "   A  B\n",
       "0  A  3\n",
       "1  1  4\n",
       "2  B  5"
      ]
     },
     "execution_count": 142,
     "metadata": {},
     "output_type": "execute_result"
    }
   ],
   "source": [
    "df_1 = pd.DataFrame({\"A\": [\"A\", \"1\", \"B\"], \"B\": [3, 4, 5]})\n",
    "df_1"
   ]
  },
  {
   "cell_type": "code",
   "execution_count": 150,
   "metadata": {},
   "outputs": [],
   "source": [
    "portos_cats = df_mestre[\"Origem\"].astype(\"category\")"
   ]
  },
  {
   "cell_type": "code",
   "execution_count": 159,
   "metadata": {},
   "outputs": [],
   "source": [
    "lista_cats = list(portos_cats.cat.categories[-3:]) + list(portos_cats.cat.categories[:-3])"
   ]
  },
  {
   "cell_type": "markdown",
   "metadata": {},
   "source": [
    "### Junção de Carga com Carga Conteinerizada"
   ]
  },
  {
   "cell_type": "code",
   "execution_count": 121,
   "metadata": {},
   "outputs": [
    {
     "name": "stdout",
     "output_type": "stream",
     "text": [
      "Ano atual:  2018\n",
      "Ano atual:  2019\n",
      "Ano atual:  2020\n",
      "Ano atual:  2021\n",
      "Ano atual:  2022\n",
      "Ano atual:  2023\n"
     ]
    }
   ],
   "source": [
    "df_mestre = df.copy()\n",
    "for ano in range(df[\"Ano\"].min(), df[\"Ano\"].max() + 1):\n",
    "    print(\"Ano atual: \", ano)\n",
    "    df_cont = pd.read_csv(f\"/home/vortex/Documents/Fatec/Trabalhos/Projeto Integrador local/BD/ANTAQ/{ano}Carga_Conteinerizada.csv\", sep=\";\", decimal=\",\", dtype=dict_dtypes)\n",
    "\n",
    "    df_mestre = df_mestre.merge(df_cont,\"left\", \"IDCarga\", suffixes=('', '_x'))\n",
    "\n",
    "    # Combinação\n",
    "    df_mestre[\"VLPesoCargaBruta\"] = df_mestre[\"VLPesoCargaConteinerizada\"].combine_first(df_mestre[\"VLPesoCargaBruta\"])\n",
    "    df_mestre.drop(\"VLPesoCargaConteinerizada\", axis=1, inplace=True)\n",
    "    df_mestre[\"CDMercadoria\"] = df_mestre[\"CDMercadoriaConteinerizada\"].combine_first(df_mestre[\"CDMercadoria\"])\n",
    "    df_mestre.drop(\"CDMercadoriaConteinerizada\", axis=1, inplace=True)\n",
    "\n",
    "del df_cont\n",
    "del df"
   ]
  },
  {
   "cell_type": "markdown",
   "metadata": {},
   "source": [
    "### Categorização"
   ]
  },
  {
   "cell_type": "code",
   "execution_count": 123,
   "metadata": {},
   "outputs": [],
   "source": [
    "df_cat = df_mestre.copy()"
   ]
  },
  {
   "cell_type": "code",
   "execution_count": 124,
   "metadata": {},
   "outputs": [],
   "source": [
    "for col in df_cat:\n",
    "    if df_cat[col].dtype == \"category\":\n",
    "        df_cat[col] = df_cat[col].cat.codes\n",
    "    if df_cat[col].dtype == \"object\":\n",
    "        df_cat[col] = df_cat[col].astype(\"category\").cat.codes"
   ]
  },
  {
   "cell_type": "code",
   "execution_count": 125,
   "metadata": {},
   "outputs": [
    {
     "name": "stdout",
     "output_type": "stream",
     "text": [
      "<class 'pandas.core.frame.DataFrame'>\n",
      "RangeIndex: 10786 entries, 0 to 10785\n",
      "Data columns (total 22 columns):\n",
      " #   Column                                  Non-Null Count  Dtype  \n",
      "---  ------                                  --------------  -----  \n",
      " 0   IDCarga                                 10786 non-null  int64  \n",
      " 1   Origem                                  10786 non-null  int8   \n",
      " 2   CDMercadoria                            10786 non-null  int16  \n",
      " 3   Tipo Operação da Carga                  10786 non-null  int8   \n",
      " 4   Tipo Navegação                          10786 non-null  int8   \n",
      " 5   FlagAutorizacao                         10786 non-null  int8   \n",
      " 6   FlagCabotagem                           10786 non-null  boolean\n",
      " 7   FlagCabotagemMovimentacao               10786 non-null  boolean\n",
      " 8   FlagLongoCurso                          10786 non-null  boolean\n",
      " 9   FlagMCOperacaoCarga                     10786 non-null  boolean\n",
      " 10  FlagOffshore                            10786 non-null  boolean\n",
      " 11  FlagTransporteViaInterioir              10786 non-null  boolean\n",
      " 12  Percurso Transporte em vias Interiores  10786 non-null  int8   \n",
      " 13  Percurso Transporte Interiores          10786 non-null  int8   \n",
      " 14  STNaturezaCarga                         10786 non-null  int8   \n",
      " 15  STSH2                                   10786 non-null  int8   \n",
      " 16  STSH4                                   10786 non-null  int8   \n",
      " 17  Natureza da Carga                       10786 non-null  int8   \n",
      " 18  TEU                                     10786 non-null  float64\n",
      " 19  QTCarga                                 10786 non-null  UInt16 \n",
      " 20  VLPesoCargaBruta                        10786 non-null  float64\n",
      " 21  Ano                                     10786 non-null  UInt16 \n",
      "dtypes: UInt16(2), boolean(6), float64(2), int16(1), int64(1), int8(10)\n",
      "memory usage: 568.9 KB\n"
     ]
    }
   ],
   "source": [
    "df_cat.info()"
   ]
  },
  {
   "cell_type": "code",
   "execution_count": 126,
   "metadata": {},
   "outputs": [],
   "source": [
    "df_cat.drop(\"IDCarga\",axis=1, inplace=True)"
   ]
  },
  {
   "cell_type": "code",
   "execution_count": 127,
   "metadata": {},
   "outputs": [],
   "source": [
    "df_cat = df_cat.fillna(0)"
   ]
  },
  {
   "cell_type": "markdown",
   "metadata": {},
   "source": [
    "### Normalização dos dados"
   ]
  },
  {
   "cell_type": "code",
   "execution_count": 128,
   "metadata": {},
   "outputs": [],
   "source": [
    "normalizador = StandardScaler()"
   ]
  },
  {
   "cell_type": "code",
   "execution_count": 129,
   "metadata": {},
   "outputs": [],
   "source": [
    "arr_cat_norm = normalizador.fit_transform(df_cat)"
   ]
  },
  {
   "cell_type": "markdown",
   "metadata": {},
   "source": [
    "## PCA"
   ]
  },
  {
   "cell_type": "markdown",
   "metadata": {},
   "source": [
    "### Estimador e projeção"
   ]
  },
  {
   "cell_type": "code",
   "execution_count": 130,
   "metadata": {},
   "outputs": [],
   "source": [
    "pca = PCA()"
   ]
  },
  {
   "cell_type": "code",
   "execution_count": 131,
   "metadata": {},
   "outputs": [],
   "source": [
    "df_proj = pd.DataFrame(pca.fit_transform(arr_cat_norm), columns=pca.get_feature_names_out())"
   ]
  },
  {
   "cell_type": "markdown",
   "metadata": {},
   "source": [
    "### Influência nas colunas do PCA"
   ]
  },
  {
   "cell_type": "code",
   "execution_count": 132,
   "metadata": {},
   "outputs": [],
   "source": [
    "df_comp = pd.DataFrame(pca.components_, pca.get_feature_names_out(), df_cat.columns)"
   ]
  },
  {
   "cell_type": "markdown",
   "metadata": {},
   "source": [
    "Maior influência em pca0"
   ]
  },
  {
   "cell_type": "code",
   "execution_count": 133,
   "metadata": {},
   "outputs": [
    {
     "data": {
      "text/html": [
       "<div>\n",
       "<style scoped>\n",
       "    .dataframe tbody tr th:only-of-type {\n",
       "        vertical-align: middle;\n",
       "    }\n",
       "\n",
       "    .dataframe tbody tr th {\n",
       "        vertical-align: top;\n",
       "    }\n",
       "\n",
       "    .dataframe thead th {\n",
       "        text-align: right;\n",
       "    }\n",
       "</style>\n",
       "<table border=\"1\" class=\"dataframe\">\n",
       "  <thead>\n",
       "    <tr style=\"text-align: right;\">\n",
       "      <th></th>\n",
       "      <th>STSH2</th>\n",
       "      <th>STNaturezaCarga</th>\n",
       "      <th>STSH4</th>\n",
       "      <th>Natureza da Carga</th>\n",
       "      <th>Ano</th>\n",
       "      <th>CDMercadoria</th>\n",
       "      <th>TEU</th>\n",
       "      <th>VLPesoCargaBruta</th>\n",
       "      <th>QTCarga</th>\n",
       "      <th>Origem</th>\n",
       "      <th>...</th>\n",
       "      <th>FlagAutorizacao</th>\n",
       "      <th>Tipo Navegação</th>\n",
       "      <th>FlagCabotagem</th>\n",
       "      <th>FlagCabotagemMovimentacao</th>\n",
       "      <th>FlagLongoCurso</th>\n",
       "      <th>FlagTransporteViaInterioir</th>\n",
       "      <th>FlagOffshore</th>\n",
       "      <th>Percurso Transporte em vias Interiores</th>\n",
       "      <th>Percurso Transporte Interiores</th>\n",
       "      <th>FlagMCOperacaoCarga</th>\n",
       "    </tr>\n",
       "  </thead>\n",
       "  <tbody>\n",
       "    <tr>\n",
       "      <th>pca0</th>\n",
       "      <td>0.580254</td>\n",
       "      <td>0.530797</td>\n",
       "      <td>0.435039</td>\n",
       "      <td>0.257764</td>\n",
       "      <td>0.186454</td>\n",
       "      <td>0.182060</td>\n",
       "      <td>0.157777</td>\n",
       "      <td>0.152406</td>\n",
       "      <td>0.069506</td>\n",
       "      <td>0.065539</td>\n",
       "      <td>...</td>\n",
       "      <td>1.110223e-16</td>\n",
       "      <td>1.110223e-16</td>\n",
       "      <td>1.387779e-17</td>\n",
       "      <td>3.469447e-18</td>\n",
       "      <td>2.168404e-19</td>\n",
       "      <td>1.058791e-22</td>\n",
       "      <td>0.000000e+00</td>\n",
       "      <td>0.0</td>\n",
       "      <td>0.0</td>\n",
       "      <td>0.0</td>\n",
       "    </tr>\n",
       "    <tr>\n",
       "      <th>pca1</th>\n",
       "      <td>0.189347</td>\n",
       "      <td>0.231810</td>\n",
       "      <td>0.345830</td>\n",
       "      <td>0.524772</td>\n",
       "      <td>0.386371</td>\n",
       "      <td>0.289719</td>\n",
       "      <td>0.312052</td>\n",
       "      <td>0.341616</td>\n",
       "      <td>0.057854</td>\n",
       "      <td>0.235593</td>\n",
       "      <td>...</td>\n",
       "      <td>0.000000e+00</td>\n",
       "      <td>8.326673e-17</td>\n",
       "      <td>0.000000e+00</td>\n",
       "      <td>3.469447e-18</td>\n",
       "      <td>4.336809e-19</td>\n",
       "      <td>0.000000e+00</td>\n",
       "      <td>6.776264e-21</td>\n",
       "      <td>0.0</td>\n",
       "      <td>0.0</td>\n",
       "      <td>0.0</td>\n",
       "    </tr>\n",
       "    <tr>\n",
       "      <th>pca2</th>\n",
       "      <td>0.018262</td>\n",
       "      <td>0.038800</td>\n",
       "      <td>0.009335</td>\n",
       "      <td>0.086298</td>\n",
       "      <td>0.131169</td>\n",
       "      <td>0.312710</td>\n",
       "      <td>0.526616</td>\n",
       "      <td>0.176182</td>\n",
       "      <td>0.448656</td>\n",
       "      <td>0.506008</td>\n",
       "      <td>...</td>\n",
       "      <td>1.110223e-16</td>\n",
       "      <td>0.000000e+00</td>\n",
       "      <td>0.000000e+00</td>\n",
       "      <td>2.775558e-17</td>\n",
       "      <td>6.938894e-18</td>\n",
       "      <td>0.000000e+00</td>\n",
       "      <td>1.734723e-18</td>\n",
       "      <td>0.0</td>\n",
       "      <td>0.0</td>\n",
       "      <td>0.0</td>\n",
       "    </tr>\n",
       "  </tbody>\n",
       "</table>\n",
       "<p>3 rows × 21 columns</p>\n",
       "</div>"
      ],
      "text/plain": [
       "         STSH2  STNaturezaCarga     STSH4  Natureza da Carga       Ano  \\\n",
       "pca0  0.580254         0.530797  0.435039           0.257764  0.186454   \n",
       "pca1  0.189347         0.231810  0.345830           0.524772  0.386371   \n",
       "pca2  0.018262         0.038800  0.009335           0.086298  0.131169   \n",
       "\n",
       "      CDMercadoria       TEU  VLPesoCargaBruta   QTCarga    Origem  ...  \\\n",
       "pca0      0.182060  0.157777          0.152406  0.069506  0.065539  ...   \n",
       "pca1      0.289719  0.312052          0.341616  0.057854  0.235593  ...   \n",
       "pca2      0.312710  0.526616          0.176182  0.448656  0.506008  ...   \n",
       "\n",
       "      FlagAutorizacao  Tipo Navegação  FlagCabotagem  \\\n",
       "pca0     1.110223e-16    1.110223e-16   1.387779e-17   \n",
       "pca1     0.000000e+00    8.326673e-17   0.000000e+00   \n",
       "pca2     1.110223e-16    0.000000e+00   0.000000e+00   \n",
       "\n",
       "      FlagCabotagemMovimentacao  FlagLongoCurso  FlagTransporteViaInterioir  \\\n",
       "pca0               3.469447e-18    2.168404e-19                1.058791e-22   \n",
       "pca1               3.469447e-18    4.336809e-19                0.000000e+00   \n",
       "pca2               2.775558e-17    6.938894e-18                0.000000e+00   \n",
       "\n",
       "      FlagOffshore  Percurso Transporte em vias Interiores  \\\n",
       "pca0  0.000000e+00                                     0.0   \n",
       "pca1  6.776264e-21                                     0.0   \n",
       "pca2  1.734723e-18                                     0.0   \n",
       "\n",
       "      Percurso Transporte Interiores  FlagMCOperacaoCarga  \n",
       "pca0                             0.0                  0.0  \n",
       "pca1                             0.0                  0.0  \n",
       "pca2                             0.0                  0.0  \n",
       "\n",
       "[3 rows x 21 columns]"
      ]
     },
     "execution_count": 133,
     "metadata": {},
     "output_type": "execute_result"
    }
   ],
   "source": [
    "df_comp.abs().sort_values(by=\"pca0\", axis=1, ascending=False).head(3)"
   ]
  },
  {
   "cell_type": "markdown",
   "metadata": {},
   "source": [
    "Maior influência em pca1"
   ]
  },
  {
   "cell_type": "code",
   "execution_count": 134,
   "metadata": {},
   "outputs": [
    {
     "data": {
      "text/html": [
       "<div>\n",
       "<style scoped>\n",
       "    .dataframe tbody tr th:only-of-type {\n",
       "        vertical-align: middle;\n",
       "    }\n",
       "\n",
       "    .dataframe tbody tr th {\n",
       "        vertical-align: top;\n",
       "    }\n",
       "\n",
       "    .dataframe thead th {\n",
       "        text-align: right;\n",
       "    }\n",
       "</style>\n",
       "<table border=\"1\" class=\"dataframe\">\n",
       "  <thead>\n",
       "    <tr style=\"text-align: right;\">\n",
       "      <th></th>\n",
       "      <th>Natureza da Carga</th>\n",
       "      <th>Ano</th>\n",
       "      <th>STSH4</th>\n",
       "      <th>VLPesoCargaBruta</th>\n",
       "      <th>TEU</th>\n",
       "      <th>CDMercadoria</th>\n",
       "      <th>Origem</th>\n",
       "      <th>STNaturezaCarga</th>\n",
       "      <th>STSH2</th>\n",
       "      <th>Tipo Operação da Carga</th>\n",
       "      <th>...</th>\n",
       "      <th>Tipo Navegação</th>\n",
       "      <th>FlagCabotagemMovimentacao</th>\n",
       "      <th>FlagLongoCurso</th>\n",
       "      <th>FlagOffshore</th>\n",
       "      <th>FlagMCOperacaoCarga</th>\n",
       "      <th>Percurso Transporte em vias Interiores</th>\n",
       "      <th>Percurso Transporte Interiores</th>\n",
       "      <th>FlagCabotagem</th>\n",
       "      <th>FlagAutorizacao</th>\n",
       "      <th>FlagTransporteViaInterioir</th>\n",
       "    </tr>\n",
       "  </thead>\n",
       "  <tbody>\n",
       "    <tr>\n",
       "      <th>pca0</th>\n",
       "      <td>0.257764</td>\n",
       "      <td>0.186454</td>\n",
       "      <td>0.435039</td>\n",
       "      <td>0.152406</td>\n",
       "      <td>0.157777</td>\n",
       "      <td>0.182060</td>\n",
       "      <td>0.065539</td>\n",
       "      <td>0.530797</td>\n",
       "      <td>0.580254</td>\n",
       "      <td>0.026464</td>\n",
       "      <td>...</td>\n",
       "      <td>1.110223e-16</td>\n",
       "      <td>3.469447e-18</td>\n",
       "      <td>2.168404e-19</td>\n",
       "      <td>0.000000e+00</td>\n",
       "      <td>0.0</td>\n",
       "      <td>0.0</td>\n",
       "      <td>0.0</td>\n",
       "      <td>1.387779e-17</td>\n",
       "      <td>1.110223e-16</td>\n",
       "      <td>1.058791e-22</td>\n",
       "    </tr>\n",
       "    <tr>\n",
       "      <th>pca1</th>\n",
       "      <td>0.524772</td>\n",
       "      <td>0.386371</td>\n",
       "      <td>0.345830</td>\n",
       "      <td>0.341616</td>\n",
       "      <td>0.312052</td>\n",
       "      <td>0.289719</td>\n",
       "      <td>0.235593</td>\n",
       "      <td>0.231810</td>\n",
       "      <td>0.189347</td>\n",
       "      <td>0.096327</td>\n",
       "      <td>...</td>\n",
       "      <td>8.326673e-17</td>\n",
       "      <td>3.469447e-18</td>\n",
       "      <td>4.336809e-19</td>\n",
       "      <td>6.776264e-21</td>\n",
       "      <td>0.0</td>\n",
       "      <td>0.0</td>\n",
       "      <td>0.0</td>\n",
       "      <td>0.000000e+00</td>\n",
       "      <td>0.000000e+00</td>\n",
       "      <td>0.000000e+00</td>\n",
       "    </tr>\n",
       "  </tbody>\n",
       "</table>\n",
       "<p>2 rows × 21 columns</p>\n",
       "</div>"
      ],
      "text/plain": [
       "      Natureza da Carga       Ano     STSH4  VLPesoCargaBruta       TEU  \\\n",
       "pca0           0.257764  0.186454  0.435039          0.152406  0.157777   \n",
       "pca1           0.524772  0.386371  0.345830          0.341616  0.312052   \n",
       "\n",
       "      CDMercadoria    Origem  STNaturezaCarga     STSH2  \\\n",
       "pca0      0.182060  0.065539         0.530797  0.580254   \n",
       "pca1      0.289719  0.235593         0.231810  0.189347   \n",
       "\n",
       "      Tipo Operação da Carga  ...  Tipo Navegação  FlagCabotagemMovimentacao  \\\n",
       "pca0                0.026464  ...    1.110223e-16               3.469447e-18   \n",
       "pca1                0.096327  ...    8.326673e-17               3.469447e-18   \n",
       "\n",
       "      FlagLongoCurso  FlagOffshore  FlagMCOperacaoCarga  \\\n",
       "pca0    2.168404e-19  0.000000e+00                  0.0   \n",
       "pca1    4.336809e-19  6.776264e-21                  0.0   \n",
       "\n",
       "      Percurso Transporte em vias Interiores  Percurso Transporte Interiores  \\\n",
       "pca0                                     0.0                             0.0   \n",
       "pca1                                     0.0                             0.0   \n",
       "\n",
       "      FlagCabotagem  FlagAutorizacao  FlagTransporteViaInterioir  \n",
       "pca0   1.387779e-17     1.110223e-16                1.058791e-22  \n",
       "pca1   0.000000e+00     0.000000e+00                0.000000e+00  \n",
       "\n",
       "[2 rows x 21 columns]"
      ]
     },
     "execution_count": 134,
     "metadata": {},
     "output_type": "execute_result"
    }
   ],
   "source": [
    "df_comp.abs().sort_values(by=\"pca1\", axis=1, ascending=False).head(2)"
   ]
  },
  {
   "cell_type": "markdown",
   "metadata": {},
   "source": [
    "## Plotagem"
   ]
  },
  {
   "cell_type": "code",
   "execution_count": 137,
   "metadata": {},
   "outputs": [
    {
     "data": {
      "text/plain": [
       "['Granel Sólido',\n",
       " 'Carga Conteinerizada',\n",
       " 'Carga Geral',\n",
       " 'Granel Líquido e Gasoso']"
      ]
     },
     "execution_count": 137,
     "metadata": {},
     "output_type": "execute_result"
    }
   ],
   "source": [
    "df_mestre[\"Natureza da Carga\"].unique().tolist()"
   ]
  },
  {
   "cell_type": "code",
   "execution_count": 138,
   "metadata": {},
   "outputs": [],
   "source": [
    "x_col = \"Natureza da Carga\""
   ]
  },
  {
   "cell_type": "code",
   "execution_count": 139,
   "metadata": {},
   "outputs": [],
   "source": [
    "x_estilos = {\n",
    "    'Granel Sólido': ('#1f77b4', 'o'),\n",
    "    'Carga Conteinerizada': ('#ff7f0e', 's'),\n",
    "    'Carga Geral': ('#2ca02c', 'v'),\n",
    "    'Granel Líquido e Gasoso': ('#d62728', '^')\n",
    "}"
   ]
  },
  {
   "cell_type": "code",
   "execution_count": 140,
   "metadata": {},
   "outputs": [
    {
     "data": {
      "image/png": "[encoded data removed]",
      "text/plain": [
       "<Figure size 1200x800 with 1 Axes>"
      ]
     },
     "metadata": {},
     "output_type": "display_data"
    }
   ],
   "source": [
    "plt.figure(figsize=(12, 8))\n",
    "plt.title(\"PCA0 X PCA1\")\n",
    "plt.xlabel(\"PCA0\")\n",
    "plt.ylabel(\"PCA1\")\n",
    "plt.grid(True)\n",
    "\n",
    "# Plotar os dados\n",
    "for x_, (cor, marker) in x_estilos.items():\n",
    "    subset = df_proj[df_mestre[x_col] == x_]\n",
    "    plt.scatter(subset['pca0'], subset['pca1'], marker=marker, color=cor, label=str(x_), alpha=0.7, edgecolor='k', s=30)\n",
    "\n",
    "plt.legend()\n",
    "plt.show()"
   ]
  },
  {
   "cell_type": "markdown",
   "metadata": {},
   "source": [
    "Relação com ano e tipo de carga?"
   ]
  },
  {
   "cell_type": "code",
   "execution_count": null,
   "metadata": {},
   "outputs": [],
   "source": []
  }
 ],
 "metadata": {
  "kernelspec": {
   "display_name": "base",
   "language": "python",
   "name": "python3"
  },
  "language_info": {
   "codemirror_mode": {
    "name": "ipython",
    "version": 3
   },
   "file_extension": ".py",
   "mimetype": "text/x-python",
   "name": "python",
   "nbconvert_exporter": "python",
   "pygments_lexer": "ipython3",
   "version": "3.12.4"
  }
 },
 "nbformat": 4,
 "nbformat_minor": 2
}
