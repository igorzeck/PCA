{
 "cells": [
  {
   "cell_type": "markdown",
   "metadata": {},
   "source": [
    "# Correlação com o crosstab de importações da Rússia e Ucrânia"
   ]
  },
  {
   "cell_type": "markdown",
   "metadata": {},
   "source": [
    "## Setup"
   ]
  },
  {
   "cell_type": "code",
   "execution_count": 119,
   "metadata": {},
   "outputs": [],
   "source": [
    "import pandas as pd\n",
    "import matplotlib.pyplot as plt\n",
    "from sklearn.decomposition import PCA\n",
    "from sklearn.preprocessing import StandardScaler"
   ]
  },
  {
   "cell_type": "code",
   "execution_count": 120,
   "metadata": {},
   "outputs": [],
   "source": [
    "ods = pd.ExcelFile(\"rus_ua_imp.ods\")\n",
    "df_rus = pd.read_excel(ods, sheet_name=\"rus_imp\", index_col=0)\n",
    "df_ua = pd.read_excel(ods, sheet_name=\"ua_imp\", index_col=0)"
   ]
  },
  {
   "cell_type": "markdown",
   "metadata": {},
   "source": [
    "Dropa a coluna `Total` de ambos DataFrames"
   ]
  },
  {
   "cell_type": "code",
   "execution_count": 121,
   "metadata": {},
   "outputs": [],
   "source": [
    "df_rus.drop(\"Total\", inplace=True)\n",
    "df_rus.drop(\"Total\", axis=1, inplace=True)"
   ]
  },
  {
   "cell_type": "code",
   "execution_count": 122,
   "metadata": {},
   "outputs": [],
   "source": [
    "df_ua.drop(\"Total\", inplace=True)\n",
    "df_ua.drop(\"Total\", axis=1, inplace=True)"
   ]
  },
  {
   "cell_type": "markdown",
   "metadata": {},
   "source": [
    "## Transformações"
   ]
  },
  {
   "cell_type": "markdown",
   "metadata": {},
   "source": [
    "### Normalização"
   ]
  },
  {
   "cell_type": "code",
   "execution_count": 123,
   "metadata": {},
   "outputs": [],
   "source": [
    "normz = StandardScaler()"
   ]
  },
  {
   "cell_type": "code",
   "execution_count": 124,
   "metadata": {},
   "outputs": [],
   "source": [
    "for col in df_rus.columns:\n",
    "    if isinstance(df_rus[col].name, pd.Timestamp):\n",
    "        df_rus.rename({df_rus[col].name: str(df_rus[col].name.year)}, axis=1, inplace=True)\n",
    "for col in df_ua.columns:\n",
    "    if isinstance(df_ua[col].name, pd.Timestamp):\n",
    "        df_ua.rename({df_ua[col].name: str(df_ua[col].name.year)}, axis=1, inplace=True)"
   ]
  },
  {
   "cell_type": "code",
   "execution_count": 125,
   "metadata": {},
   "outputs": [],
   "source": [
    "df_rus_transf = pd.DataFrame(normz.fit_transform(df_rus), columns=df_rus.columns)"
   ]
  },
  {
   "cell_type": "code",
   "execution_count": 126,
   "metadata": {},
   "outputs": [],
   "source": [
    "df_ua_transf = pd.DataFrame(normz.fit_transform(df_ua), columns=df_ua.columns)"
   ]
  },
  {
   "cell_type": "markdown",
   "metadata": {},
   "source": [
    "### PCA"
   ]
  },
  {
   "cell_type": "markdown",
   "metadata": {},
   "source": [
    "#### Rússia"
   ]
  },
  {
   "cell_type": "code",
   "execution_count": 127,
   "metadata": {},
   "outputs": [],
   "source": [
    "pca_rus = PCA()"
   ]
  },
  {
   "cell_type": "code",
   "execution_count": 128,
   "metadata": {},
   "outputs": [],
   "source": [
    "arr_rus = pca_rus.fit_transform(df_rus_transf)"
   ]
  },
  {
   "cell_type": "code",
   "execution_count": 139,
   "metadata": {},
   "outputs": [
    {
     "data": {
      "text/html": [
       "<div>\n",
       "<style scoped>\n",
       "    .dataframe tbody tr th:only-of-type {\n",
       "        vertical-align: middle;\n",
       "    }\n",
       "\n",
       "    .dataframe tbody tr th {\n",
       "        vertical-align: top;\n",
       "    }\n",
       "\n",
       "    .dataframe thead th {\n",
       "        text-align: right;\n",
       "    }\n",
       "</style>\n",
       "<table border=\"1\" class=\"dataframe\">\n",
       "  <thead>\n",
       "    <tr style=\"text-align: right;\">\n",
       "      <th></th>\n",
       "      <th>2018</th>\n",
       "      <th>2019</th>\n",
       "      <th>2020</th>\n",
       "      <th>2021</th>\n",
       "      <th>2022</th>\n",
       "      <th>2023</th>\n",
       "    </tr>\n",
       "  </thead>\n",
       "  <tbody>\n",
       "    <tr>\n",
       "      <th>pca0</th>\n",
       "      <td>0.383672</td>\n",
       "      <td>0.422810</td>\n",
       "      <td>0.422539</td>\n",
       "      <td>0.422743</td>\n",
       "      <td>0.424193</td>\n",
       "      <td>0.369914</td>\n",
       "    </tr>\n",
       "    <tr>\n",
       "      <th>pca1</th>\n",
       "      <td>-0.600579</td>\n",
       "      <td>-0.207139</td>\n",
       "      <td>-0.054052</td>\n",
       "      <td>0.008842</td>\n",
       "      <td>0.133044</td>\n",
       "      <td>0.758747</td>\n",
       "    </tr>\n",
       "    <tr>\n",
       "      <th>pca2</th>\n",
       "      <td>0.655896</td>\n",
       "      <td>-0.107523</td>\n",
       "      <td>-0.369429</td>\n",
       "      <td>-0.370126</td>\n",
       "      <td>-0.185539</td>\n",
       "      <td>0.500344</td>\n",
       "    </tr>\n",
       "  </tbody>\n",
       "</table>\n",
       "</div>"
      ],
      "text/plain": [
       "          2018      2019      2020      2021      2022      2023\n",
       "pca0  0.383672  0.422810  0.422539  0.422743  0.424193  0.369914\n",
       "pca1 -0.600579 -0.207139 -0.054052  0.008842  0.133044  0.758747\n",
       "pca2  0.655896 -0.107523 -0.369429 -0.370126 -0.185539  0.500344"
      ]
     },
     "execution_count": 139,
     "metadata": {},
     "output_type": "execute_result"
    }
   ],
   "source": [
    "df_rus_comp = pd.DataFrame(pca_rus.components_,\n",
    "                           pca_rus.get_feature_names_out(),\n",
    "                           df_rus.columns)\n",
    "df_rus_comp.head(3)"
   ]
  },
  {
   "cell_type": "markdown",
   "metadata": {},
   "source": [
    "#### Ucrânia"
   ]
  },
  {
   "cell_type": "code",
   "execution_count": 130,
   "metadata": {},
   "outputs": [],
   "source": [
    "pca_ua = PCA()"
   ]
  },
  {
   "cell_type": "code",
   "execution_count": 131,
   "metadata": {},
   "outputs": [],
   "source": [
    "arr_ua = pca_ua.fit_transform(df_ua_transf)"
   ]
  },
  {
   "cell_type": "code",
   "execution_count": 137,
   "metadata": {},
   "outputs": [
    {
     "data": {
      "text/html": [
       "<div>\n",
       "<style scoped>\n",
       "    .dataframe tbody tr th:only-of-type {\n",
       "        vertical-align: middle;\n",
       "    }\n",
       "\n",
       "    .dataframe tbody tr th {\n",
       "        vertical-align: top;\n",
       "    }\n",
       "\n",
       "    .dataframe thead th {\n",
       "        text-align: right;\n",
       "    }\n",
       "</style>\n",
       "<table border=\"1\" class=\"dataframe\">\n",
       "  <thead>\n",
       "    <tr style=\"text-align: right;\">\n",
       "      <th></th>\n",
       "      <th>2018</th>\n",
       "      <th>2019</th>\n",
       "      <th>2020</th>\n",
       "      <th>2021</th>\n",
       "      <th>2022</th>\n",
       "    </tr>\n",
       "  </thead>\n",
       "  <tbody>\n",
       "    <tr>\n",
       "      <th>pca0</th>\n",
       "      <td>0.183220</td>\n",
       "      <td>0.355712</td>\n",
       "      <td>0.565078</td>\n",
       "      <td>0.485277</td>\n",
       "      <td>0.533940</td>\n",
       "    </tr>\n",
       "    <tr>\n",
       "      <th>pca1</th>\n",
       "      <td>-0.622904</td>\n",
       "      <td>-0.540115</td>\n",
       "      <td>0.288981</td>\n",
       "      <td>0.462134</td>\n",
       "      <td>-0.152275</td>\n",
       "    </tr>\n",
       "    <tr>\n",
       "      <th>pca2</th>\n",
       "      <td>0.760074</td>\n",
       "      <td>-0.531594</td>\n",
       "      <td>0.074116</td>\n",
       "      <td>0.278389</td>\n",
       "      <td>-0.238124</td>\n",
       "    </tr>\n",
       "  </tbody>\n",
       "</table>\n",
       "</div>"
      ],
      "text/plain": [
       "          2018      2019      2020      2021      2022\n",
       "pca0  0.183220  0.355712  0.565078  0.485277  0.533940\n",
       "pca1 -0.622904 -0.540115  0.288981  0.462134 -0.152275\n",
       "pca2  0.760074 -0.531594  0.074116  0.278389 -0.238124"
      ]
     },
     "execution_count": 137,
     "metadata": {},
     "output_type": "execute_result"
    }
   ],
   "source": [
    "df_ua_comp = pd.DataFrame(pca_ua.components_,\n",
    "                           pca_ua.get_feature_names_out(),\n",
    "                           df_ua.columns)\n",
    "df_ua_comp.head(3)"
   ]
  },
  {
   "cell_type": "markdown",
   "metadata": {},
   "source": [
    "### Componentes"
   ]
  },
  {
   "cell_type": "code",
   "execution_count": null,
   "metadata": {},
   "outputs": [
    {
     "data": {
      "text/html": [
       "<div>\n",
       "<style scoped>\n",
       "    .dataframe tbody tr th:only-of-type {\n",
       "        vertical-align: middle;\n",
       "    }\n",
       "\n",
       "    .dataframe tbody tr th {\n",
       "        vertical-align: top;\n",
       "    }\n",
       "\n",
       "    .dataframe thead th {\n",
       "        text-align: right;\n",
       "    }\n",
       "</style>\n",
       "<table border=\"1\" class=\"dataframe\">\n",
       "  <thead>\n",
       "    <tr style=\"text-align: right;\">\n",
       "      <th></th>\n",
       "      <th>pca0</th>\n",
       "      <th>pca1</th>\n",
       "      <th>pca2</th>\n",
       "      <th>pca3</th>\n",
       "      <th>pca4</th>\n",
       "    </tr>\n",
       "    <tr>\n",
       "      <th>Grupo de Mercadoria</th>\n",
       "      <th></th>\n",
       "      <th></th>\n",
       "      <th></th>\n",
       "      <th></th>\n",
       "      <th></th>\n",
       "    </tr>\n",
       "  </thead>\n",
       "  <tbody>\n",
       "    <tr>\n",
       "      <th>Plásticos e suas obras</th>\n",
       "      <td>7.050983</td>\n",
       "      <td>4.154795</td>\n",
       "      <td>1.309574</td>\n",
       "      <td>0.264323</td>\n",
       "      <td>-0.029748</td>\n",
       "    </tr>\n",
       "    <tr>\n",
       "      <th>Obras de ferro fundido, ferro ou aço</th>\n",
       "      <td>2.987810</td>\n",
       "      <td>-0.696401</td>\n",
       "      <td>-1.861765</td>\n",
       "      <td>0.113628</td>\n",
       "      <td>0.209945</td>\n",
       "    </tr>\n",
       "  </tbody>\n",
       "</table>\n",
       "</div>"
      ],
      "text/plain": [
       "                                          pca0      pca1      pca2      pca3  \\\n",
       "Grupo de Mercadoria                                                            \n",
       "Plásticos e suas obras                7.050983  4.154795  1.309574  0.264323   \n",
       "Obras de ferro fundido, ferro ou aço  2.987810 -0.696401 -1.861765  0.113628   \n",
       "\n",
       "                                          pca4  \n",
       "Grupo de Mercadoria                             \n",
       "Plásticos e suas obras               -0.029748  \n",
       "Obras de ferro fundido, ferro ou aço  0.209945  "
      ]
     },
     "execution_count": 135,
     "metadata": {},
     "output_type": "execute_result"
    }
   ],
   "source": [
    "df_ua_pca = pd.DataFrame(arr_ua, df_ua.index, pca_ua.get_feature_names_out())\n",
    "df_ua_pca.head(2)"
   ]
  },
  {
   "cell_type": "code",
   "execution_count": 140,
   "metadata": {},
   "outputs": [
    {
     "data": {
      "text/html": [
       "<div>\n",
       "<style scoped>\n",
       "    .dataframe tbody tr th:only-of-type {\n",
       "        vertical-align: middle;\n",
       "    }\n",
       "\n",
       "    .dataframe tbody tr th {\n",
       "        vertical-align: top;\n",
       "    }\n",
       "\n",
       "    .dataframe thead th {\n",
       "        text-align: right;\n",
       "    }\n",
       "</style>\n",
       "<table border=\"1\" class=\"dataframe\">\n",
       "  <thead>\n",
       "    <tr style=\"text-align: right;\">\n",
       "      <th></th>\n",
       "      <th>pca0</th>\n",
       "      <th>pca1</th>\n",
       "      <th>pca2</th>\n",
       "      <th>pca3</th>\n",
       "      <th>pca4</th>\n",
       "      <th>pca5</th>\n",
       "    </tr>\n",
       "    <tr>\n",
       "      <th>Grupo de Mercadoria</th>\n",
       "      <th></th>\n",
       "      <th></th>\n",
       "      <th></th>\n",
       "      <th></th>\n",
       "      <th></th>\n",
       "      <th></th>\n",
       "    </tr>\n",
       "  </thead>\n",
       "  <tbody>\n",
       "    <tr>\n",
       "      <th>Adubos (fertilizantes)</th>\n",
       "      <td>16.474304</td>\n",
       "      <td>0.533744</td>\n",
       "      <td>-0.794010</td>\n",
       "      <td>-0.001367</td>\n",
       "      <td>-0.000565</td>\n",
       "      <td>-0.000059</td>\n",
       "    </tr>\n",
       "    <tr>\n",
       "      <th>Combustíveis minerais, óleos minerais e produtos da sua destilação; matérias betuminosas; ceras minerais</th>\n",
       "      <td>1.693978</td>\n",
       "      <td>3.352979</td>\n",
       "      <td>1.778863</td>\n",
       "      <td>0.001669</td>\n",
       "      <td>0.000454</td>\n",
       "      <td>-0.000296</td>\n",
       "    </tr>\n",
       "  </tbody>\n",
       "</table>\n",
       "</div>"
      ],
      "text/plain": [
       "                                                         pca0      pca1  \\\n",
       "Grupo de Mercadoria                                                       \n",
       "Adubos (fertilizantes)                              16.474304  0.533744   \n",
       "Combustíveis minerais, óleos minerais e produto...   1.693978  3.352979   \n",
       "\n",
       "                                                        pca2      pca3  \\\n",
       "Grupo de Mercadoria                                                      \n",
       "Adubos (fertilizantes)                             -0.794010 -0.001367   \n",
       "Combustíveis minerais, óleos minerais e produto...  1.778863  0.001669   \n",
       "\n",
       "                                                        pca4      pca5  \n",
       "Grupo de Mercadoria                                                     \n",
       "Adubos (fertilizantes)                             -0.000565 -0.000059  \n",
       "Combustíveis minerais, óleos minerais e produto...  0.000454 -0.000296  "
      ]
     },
     "execution_count": 140,
     "metadata": {},
     "output_type": "execute_result"
    }
   ],
   "source": [
    "df_rus_pca = pd.DataFrame(arr_rus, df_rus.index, pca_rus.get_feature_names_out())\n",
    "df_rus_pca.head(2)"
   ]
  },
  {
   "cell_type": "markdown",
   "metadata": {},
   "source": [
    "## Plotagem"
   ]
  },
  {
   "cell_type": "code",
   "execution_count": 147,
   "metadata": {},
   "outputs": [],
   "source": [
    "ano_estilos = {\n",
    "    2018: ('#1f77b4', 'o'),\n",
    "    2019: ('#ff7f0e', 's'),\n",
    "    2020: ('#2ca02c', 'v'),\n",
    "    2021: ('#d62728', '^'),\n",
    "    2022: ('#9467bd', 'D'),\n",
    "    2023: ('#8c564b', 'P')\n",
    "}"
   ]
  },
  {
   "cell_type": "markdown",
   "metadata": {},
   "source": [
    "### Rússia"
   ]
  },
  {
   "cell_type": "code",
   "execution_count": 149,
   "metadata": {},
   "outputs": [
    {
     "data": {
      "image/png": "[encoded data removed]",
      "text/plain": [
       "<Figure size 1200x800 with 1 Axes>"
      ]
     },
     "metadata": {},
     "output_type": "display_data"
    }
   ],
   "source": [
    "plt.figure(figsize=(12, 8))\n",
    "plt.title(\"PCA0 X PCA1 - Features: Anos\")\n",
    "plt.scatter(df_rus_pca['pca0'], df_rus_pca['pca1'], alpha=0.7, edgecolor='k', s=30)\n",
    "plt.show()"
   ]
  },
  {
   "cell_type": "markdown",
   "metadata": {},
   "source": [
    "### Ucrânia"
   ]
  },
  {
   "cell_type": "code",
   "execution_count": 143,
   "metadata": {},
   "outputs": [
    {
     "data": {
      "image/png": "[encoded data removed]",
      "text/plain": [
       "<Figure size 1200x800 with 1 Axes>"
      ]
     },
     "metadata": {},
     "output_type": "display_data"
    }
   ],
   "source": [
    "plt.figure(figsize=(12, 8))\n",
    "plt.title(\"PCA0 X PCA1 - Features: Anos\")\n",
    "plt.scatter(df_ua_pca[\"pca0\"], df_ua_pca[\"pca1\"])\n",
    "plt.show()"
   ]
  },
  {
   "cell_type": "code",
   "execution_count": null,
   "metadata": {},
   "outputs": [],
   "source": []
  }
 ],
 "metadata": {
  "kernelspec": {
   "display_name": "base",
   "language": "python",
   "name": "python3"
  },
  "language_info": {
   "codemirror_mode": {
    "name": "ipython",
    "version": 3
   },
   "file_extension": ".py",
   "mimetype": "text/x-python",
   "name": "python",
   "nbconvert_exporter": "python",
   "pygments_lexer": "ipython3",
   "version": "3.12.4"
  }
 },
 "nbformat": 4,
 "nbformat_minor": 2
}
